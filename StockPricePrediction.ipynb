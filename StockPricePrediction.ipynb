{
 "cells": [
  {
   "cell_type": "code",
   "execution_count": 2,
   "metadata": {
    "collapsed": true,
    "jupyter": {
     "outputs_hidden": true
    }
   },
   "outputs": [
    {
     "name": "stdout",
     "output_type": "stream",
     "text": [
      "Requirement already satisfied: tensorflow in /opt/conda/lib/python3.7/site-packages (2.9.1)\n",
      "Requirement already satisfied: packaging in /opt/conda/lib/python3.7/site-packages (from tensorflow) (20.1)\n",
      "Requirement already satisfied: h5py>=2.9.0 in /opt/conda/lib/python3.7/site-packages (from tensorflow) (2.10.0)\n",
      "Requirement already satisfied: gast<=0.4.0,>=0.2.1 in /opt/conda/lib/python3.7/site-packages (from tensorflow) (0.4.0)\n",
      "Requirement already satisfied: keras-preprocessing>=1.1.1 in /opt/conda/lib/python3.7/site-packages (from tensorflow) (1.1.2)\n",
      "Requirement already satisfied: tensorflow-estimator<2.10.0,>=2.9.0rc0 in /opt/conda/lib/python3.7/site-packages (from tensorflow) (2.9.0)\n",
      "Requirement already satisfied: typing-extensions>=3.6.6 in /opt/conda/lib/python3.7/site-packages (from tensorflow) (4.3.0)\n",
      "Requirement already satisfied: astunparse>=1.6.0 in /opt/conda/lib/python3.7/site-packages (from tensorflow) (1.6.3)\n",
      "Requirement already satisfied: flatbuffers<2,>=1.12 in /opt/conda/lib/python3.7/site-packages (from tensorflow) (1.12)\n",
      "Requirement already satisfied: setuptools in /opt/conda/lib/python3.7/site-packages (from tensorflow) (59.3.0)\n",
      "Requirement already satisfied: grpcio<2.0,>=1.24.3 in /opt/conda/lib/python3.7/site-packages (from tensorflow) (1.47.0)\n",
      "Requirement already satisfied: absl-py>=1.0.0 in /opt/conda/lib/python3.7/site-packages (from tensorflow) (1.2.0)\n",
      "Requirement already satisfied: opt-einsum>=2.3.2 in /opt/conda/lib/python3.7/site-packages (from tensorflow) (3.3.0)\n",
      "Requirement already satisfied: google-pasta>=0.1.1 in /opt/conda/lib/python3.7/site-packages (from tensorflow) (0.2.0)\n",
      "Requirement already satisfied: protobuf<3.20,>=3.9.2 in /opt/conda/lib/python3.7/site-packages (from tensorflow) (3.19.4)\n",
      "Requirement already satisfied: numpy>=1.20 in /opt/conda/lib/python3.7/site-packages (from tensorflow) (1.21.6)\n",
      "Requirement already satisfied: termcolor>=1.1.0 in /opt/conda/lib/python3.7/site-packages (from tensorflow) (1.1.0)\n",
      "Requirement already satisfied: libclang>=13.0.0 in /opt/conda/lib/python3.7/site-packages (from tensorflow) (14.0.6)\n",
      "Requirement already satisfied: tensorboard<2.10,>=2.9 in /opt/conda/lib/python3.7/site-packages (from tensorflow) (2.9.1)\n",
      "Requirement already satisfied: six>=1.12.0 in /opt/conda/lib/python3.7/site-packages (from tensorflow) (1.14.0)\n",
      "Requirement already satisfied: keras<2.10.0,>=2.9.0rc0 in /opt/conda/lib/python3.7/site-packages (from tensorflow) (2.9.0)\n",
      "Requirement already satisfied: wrapt>=1.11.0 in /opt/conda/lib/python3.7/site-packages (from tensorflow) (1.11.2)\n",
      "Requirement already satisfied: tensorflow-io-gcs-filesystem>=0.23.1 in /opt/conda/lib/python3.7/site-packages (from tensorflow) (0.26.0)\n",
      "Requirement already satisfied: wheel<1.0,>=0.23.0 in /opt/conda/lib/python3.7/site-packages (from astunparse>=1.6.0->tensorflow) (0.34.2)\n",
      "Requirement already satisfied: tensorboard-data-server<0.7.0,>=0.6.0 in /opt/conda/lib/python3.7/site-packages (from tensorboard<2.10,>=2.9->tensorflow) (0.6.1)\n",
      "Requirement already satisfied: markdown>=2.6.8 in /opt/conda/lib/python3.7/site-packages (from tensorboard<2.10,>=2.9->tensorflow) (3.4.1)\n",
      "Requirement already satisfied: requests<3,>=2.21.0 in /opt/conda/lib/python3.7/site-packages (from tensorboard<2.10,>=2.9->tensorflow) (2.28.1)\n",
      "Requirement already satisfied: tensorboard-plugin-wit>=1.6.0 in /opt/conda/lib/python3.7/site-packages (from tensorboard<2.10,>=2.9->tensorflow) (1.8.1)\n",
      "Requirement already satisfied: werkzeug>=1.0.1 in /opt/conda/lib/python3.7/site-packages (from tensorboard<2.10,>=2.9->tensorflow) (2.2.1)\n",
      "Requirement already satisfied: google-auth<3,>=1.6.3 in /opt/conda/lib/python3.7/site-packages (from tensorboard<2.10,>=2.9->tensorflow) (2.10.0)\n",
      "Requirement already satisfied: google-auth-oauthlib<0.5,>=0.4.1 in /opt/conda/lib/python3.7/site-packages (from tensorboard<2.10,>=2.9->tensorflow) (0.4.6)\n",
      "Requirement already satisfied: pyparsing>=2.0.2 in /opt/conda/lib/python3.7/site-packages (from packaging->tensorflow) (2.4.6)\n",
      "Requirement already satisfied: cachetools<6.0,>=2.0.0 in /opt/conda/lib/python3.7/site-packages (from google-auth<3,>=1.6.3->tensorboard<2.10,>=2.9->tensorflow) (5.2.0)\n",
      "Requirement already satisfied: pyasn1-modules>=0.2.1 in /opt/conda/lib/python3.7/site-packages (from google-auth<3,>=1.6.3->tensorboard<2.10,>=2.9->tensorflow) (0.2.8)\n",
      "Requirement already satisfied: rsa<5,>=3.1.4 in /opt/conda/lib/python3.7/site-packages (from google-auth<3,>=1.6.3->tensorboard<2.10,>=2.9->tensorflow) (4.8)\n",
      "Requirement already satisfied: requests-oauthlib>=0.7.0 in /opt/conda/lib/python3.7/site-packages (from google-auth-oauthlib<0.5,>=0.4.1->tensorboard<2.10,>=2.9->tensorflow) (1.3.1)\n",
      "Requirement already satisfied: importlib-metadata>=4.4 in /opt/conda/lib/python3.7/site-packages (from markdown>=2.6.8->tensorboard<2.10,>=2.9->tensorflow) (4.12.0)\n",
      "Requirement already satisfied: certifi>=2017.4.17 in /opt/conda/lib/python3.7/site-packages (from requests<3,>=2.21.0->tensorboard<2.10,>=2.9->tensorflow) (2022.6.15)\n",
      "Requirement already satisfied: charset-normalizer<3,>=2 in /opt/conda/lib/python3.7/site-packages (from requests<3,>=2.21.0->tensorboard<2.10,>=2.9->tensorflow) (2.0.4)\n",
      "Requirement already satisfied: idna<4,>=2.5 in /opt/conda/lib/python3.7/site-packages (from requests<3,>=2.21.0->tensorboard<2.10,>=2.9->tensorflow) (2.8)\n",
      "Requirement already satisfied: urllib3<1.27,>=1.21.1 in /opt/conda/lib/python3.7/site-packages (from requests<3,>=2.21.0->tensorboard<2.10,>=2.9->tensorflow) (1.26.11)\n",
      "Requirement already satisfied: MarkupSafe>=2.1.1 in /opt/conda/lib/python3.7/site-packages (from werkzeug>=1.0.1->tensorboard<2.10,>=2.9->tensorflow) (2.1.1)\n",
      "Requirement already satisfied: zipp>=0.5 in /opt/conda/lib/python3.7/site-packages (from importlib-metadata>=4.4->markdown>=2.6.8->tensorboard<2.10,>=2.9->tensorflow) (2.2.0)\n",
      "Requirement already satisfied: pyasn1<0.5.0,>=0.4.6 in /opt/conda/lib/python3.7/site-packages (from pyasn1-modules>=0.2.1->google-auth<3,>=1.6.3->tensorboard<2.10,>=2.9->tensorflow) (0.4.8)\n",
      "Requirement already satisfied: oauthlib>=3.0.0 in /opt/conda/lib/python3.7/site-packages (from requests-oauthlib>=0.7.0->google-auth-oauthlib<0.5,>=0.4.1->tensorboard<2.10,>=2.9->tensorflow) (3.2.0)\n",
      "\u001b[33mWARNING: Running pip as the 'root' user can result in broken permissions and conflicting behaviour with the system package manager. It is recommended to use a virtual environment instead: https://pip.pypa.io/warnings/venv\u001b[0m\u001b[33m\n",
      "\u001b[0m"
     ]
    }
   ],
   "source": [
    "!pip install tensorflow"
   ]
  },
  {
   "cell_type": "code",
   "execution_count": 3,
   "metadata": {
    "collapsed": true,
    "jupyter": {
     "outputs_hidden": true
    }
   },
   "outputs": [
    {
     "name": "stdout",
     "output_type": "stream",
     "text": [
      "Requirement already satisfied: wandb in /opt/conda/lib/python3.7/site-packages (0.13.1)\n",
      "Requirement already satisfied: setuptools in /opt/conda/lib/python3.7/site-packages (from wandb) (59.3.0)\n",
      "Requirement already satisfied: promise<3,>=2.0 in /opt/conda/lib/python3.7/site-packages (from wandb) (2.3)\n",
      "Requirement already satisfied: GitPython>=1.0.0 in /opt/conda/lib/python3.7/site-packages (from wandb) (3.1.27)\n",
      "Requirement already satisfied: Click!=8.0.0,>=7.0 in /opt/conda/lib/python3.7/site-packages (from wandb) (7.0)\n",
      "Requirement already satisfied: six>=1.13.0 in /opt/conda/lib/python3.7/site-packages (from wandb) (1.14.0)\n",
      "Requirement already satisfied: pathtools in /opt/conda/lib/python3.7/site-packages (from wandb) (0.1.2)\n",
      "Requirement already satisfied: PyYAML in /opt/conda/lib/python3.7/site-packages (from wandb) (6.0)\n",
      "Requirement already satisfied: psutil>=5.0.0 in /opt/conda/lib/python3.7/site-packages (from wandb) (5.6.7)\n",
      "Requirement already satisfied: docker-pycreds>=0.4.0 in /opt/conda/lib/python3.7/site-packages (from wandb) (0.4.0)\n",
      "Requirement already satisfied: shortuuid>=0.5.0 in /opt/conda/lib/python3.7/site-packages (from wandb) (1.0.9)\n",
      "Requirement already satisfied: protobuf<4.0dev,>=3.12.0 in /opt/conda/lib/python3.7/site-packages (from wandb) (3.19.4)\n",
      "Requirement already satisfied: requests<3,>=2.0.0 in /opt/conda/lib/python3.7/site-packages (from wandb) (2.28.1)\n",
      "Requirement already satisfied: sentry-sdk>=1.0.0 in /opt/conda/lib/python3.7/site-packages (from wandb) (1.9.2)\n",
      "Requirement already satisfied: setproctitle in /opt/conda/lib/python3.7/site-packages (from wandb) (1.3.1)\n",
      "Requirement already satisfied: gitdb<5,>=4.0.1 in /opt/conda/lib/python3.7/site-packages (from GitPython>=1.0.0->wandb) (4.0.9)\n",
      "Requirement already satisfied: typing-extensions>=3.7.4.3 in /opt/conda/lib/python3.7/site-packages (from GitPython>=1.0.0->wandb) (4.3.0)\n",
      "Requirement already satisfied: certifi>=2017.4.17 in /opt/conda/lib/python3.7/site-packages (from requests<3,>=2.0.0->wandb) (2022.6.15)\n",
      "Requirement already satisfied: idna<4,>=2.5 in /opt/conda/lib/python3.7/site-packages (from requests<3,>=2.0.0->wandb) (2.8)\n",
      "Requirement already satisfied: urllib3<1.27,>=1.21.1 in /opt/conda/lib/python3.7/site-packages (from requests<3,>=2.0.0->wandb) (1.26.11)\n",
      "Requirement already satisfied: charset-normalizer<3,>=2 in /opt/conda/lib/python3.7/site-packages (from requests<3,>=2.0.0->wandb) (2.0.4)\n",
      "Requirement already satisfied: smmap<6,>=3.0.1 in /opt/conda/lib/python3.7/site-packages (from gitdb<5,>=4.0.1->GitPython>=1.0.0->wandb) (5.0.0)\n",
      "\u001b[33mWARNING: Running pip as the 'root' user can result in broken permissions and conflicting behaviour with the system package manager. It is recommended to use a virtual environment instead: https://pip.pypa.io/warnings/venv\u001b[0m\u001b[33m\n",
      "\u001b[0m"
     ]
    }
   ],
   "source": [
    "!pip install wandb"
   ]
  },
  {
   "cell_type": "code",
   "execution_count": 4,
   "metadata": {},
   "outputs": [
    {
     "name": "stdout",
     "output_type": "stream",
     "text": [
      "\u001b[34m\u001b[1mwandb\u001b[0m: Appending key for api.wandb.ai to your netrc file: /root/.netrc\n"
     ]
    }
   ],
   "source": [
    "!wandb login 4145cec4ec9dddbd0bee62113dd35e5a71801737"
   ]
  },
  {
   "cell_type": "code",
   "execution_count": 2,
   "metadata": {},
   "outputs": [],
   "source": [
    "import pandas as pd\n",
    "import math\n",
    "import numpy as np\n",
    "import matplotlib.pyplot as plt # Important package for visualization - we use this to plot the market data\n",
    "import matplotlib.dates as mdates # Formatting dates\n",
    "import seaborn as sns\n",
    "import tensorflow as tf\n",
    "import keras\n",
    "import os \n",
    "import time\n",
    "import warnings\n",
    "import wandb\n",
    "warnings.simplefilter(action='ignore', category=FutureWarning)\n",
    "from math import sqrt\n",
    "from datetime import date, timedelta, datetime # Date Functions\n",
    "from pandas.plotting import register_matplotlib_converters # This function adds plotting functions for calender dates\n",
    "from sklearn.metrics import mean_absolute_error, mean_squared_error # Packages for measuring model performance / errors\n",
    "from tensorflow.keras import Sequential # Deep learning library, used for neural networks\n",
    "from tensorflow.keras.layers import LSTM, Dense, Dropout # Deep learning classes for recurrent and regular densely-connected layers\n",
    "from tensorflow.keras.callbacks import EarlyStopping # EarlyStopping during model training\n",
    "from tensorflow.keras.layers import GRU\n",
    "from tensorflow.keras.layers import SimpleRNN\n",
    "from sklearn.preprocessing import RobustScaler, MinMaxScaler # This Scaler removes the median and scales the data according to the quantile range to normalize the price data \n",
    "from keras.layers import Dense, Dropout, LSTM, SimpleRNN, GRU\n",
    "from keras.callbacks import ModelCheckpoint, EarlyStopping, ReduceLROnPlateau, CSVLogger\n",
    "from sklearn.preprocessing import StandardScaler, MinMaxScaler\n",
    "from sklearn.metrics import mean_squared_error, r2_score\n",
    "from keras.models import load_model\n",
    "from keras import optimizers\n",
    "from keras import backend as K\n",
    "from wandb.keras import WandbCallback\n",
    "sns.set_style('white', { 'axes.spines.right': False, 'axes.spines.top': False})\n",
    "plt.style.use('ggplot')"
   ]
  },
  {
   "cell_type": "code",
   "execution_count": 3,
   "metadata": {},
   "outputs": [
    {
     "name": "stderr",
     "output_type": "stream",
     "text": [
      "Failed to detect the name of this notebook, you can set it manually with the WANDB_NOTEBOOK_NAME environment variable to enable code saving.\n",
      "wandb: Currently logged in as: scarfe. Use `wandb login --relogin` to force relogin\n"
     ]
    },
    {
     "data": {
      "text/html": [
       "Tracking run with wandb version 0.13.1"
      ],
      "text/plain": [
       "<IPython.core.display.HTML object>"
      ]
     },
     "metadata": {},
     "output_type": "display_data"
    },
    {
     "data": {
      "text/html": [
       "Run data is saved locally in <code>/root/wandb/run-20220809_012244-15x1a5lr</code>"
      ],
      "text/plain": [
       "<IPython.core.display.HTML object>"
      ]
     },
     "metadata": {},
     "output_type": "display_data"
    },
    {
     "data": {
      "text/html": [
       "Syncing run <strong><a href=\"https://wandb.ai/scarfe/Stock%20Price%20Time%20Series%20Project/runs/15x1a5lr\" target=\"_blank\">northern-sea-3</a></strong> to <a href=\"https://wandb.ai/scarfe/Stock%20Price%20Time%20Series%20Project\" target=\"_blank\">Weights & Biases</a> (<a href=\"https://wandb.me/run\" target=\"_blank\">docs</a>)<br/>"
      ],
      "text/plain": [
       "<IPython.core.display.HTML object>"
      ]
     },
     "metadata": {},
     "output_type": "display_data"
    },
    {
     "data": {
      "text/html": [
       "<button onClick=\"this.nextSibling.style.display='block';this.style.display='none';\">Display W&B run</button><iframe src=\"https://wandb.ai/scarfe/Stock%20Price%20Time%20Series%20Project/runs/15x1a5lr?jupyter=true\" style=\"border:none;width:100%;height:420px;display:none;\"></iframe>"
      ],
      "text/plain": [
       "<wandb.sdk.wandb_run.Run at 0x7f1b047a6210>"
      ]
     },
     "execution_count": 3,
     "metadata": {},
     "output_type": "execute_result"
    }
   ],
   "source": [
    "wandb.init(project = \"Stock Price Time Series Project\")"
   ]
  },
  {
   "cell_type": "code",
   "execution_count": 4,
   "metadata": {},
   "outputs": [],
   "source": [
    "df = pd.read_csv(\"NewMachine.csv\")\n",
    "\n",
    "df.drop(['OpeningTime','CloseTime','PredictValue'], inplace = True, axis = 1)"
   ]
  },
  {
   "cell_type": "code",
   "execution_count": 5,
   "metadata": {},
   "outputs": [
    {
     "data": {
      "text/html": [
       "<div>\n",
       "<style scoped>\n",
       "    .dataframe tbody tr th:only-of-type {\n",
       "        vertical-align: middle;\n",
       "    }\n",
       "\n",
       "    .dataframe tbody tr th {\n",
       "        vertical-align: top;\n",
       "    }\n",
       "\n",
       "    .dataframe thead th {\n",
       "        text-align: right;\n",
       "    }\n",
       "</style>\n",
       "<table border=\"1\" class=\"dataframe\">\n",
       "  <thead>\n",
       "    <tr style=\"text-align: right;\">\n",
       "      <th></th>\n",
       "      <th>Open</th>\n",
       "      <th>High</th>\n",
       "      <th>Low</th>\n",
       "      <th>Close</th>\n",
       "      <th>Volume</th>\n",
       "      <th>RSI</th>\n",
       "      <th>MACD</th>\n",
       "      <th>MACDSIGNAL</th>\n",
       "      <th>MACDHIST</th>\n",
       "      <th>STOCHK</th>\n",
       "      <th>STOCHD</th>\n",
       "    </tr>\n",
       "  </thead>\n",
       "  <tbody>\n",
       "    <tr>\n",
       "      <th>0</th>\n",
       "      <td>8054.34</td>\n",
       "      <td>8083.42</td>\n",
       "      <td>8054.34</td>\n",
       "      <td>8080.11</td>\n",
       "      <td>141.913060</td>\n",
       "      <td>50.52</td>\n",
       "      <td>1.02</td>\n",
       "      <td>8.64</td>\n",
       "      <td>-7.63</td>\n",
       "      <td>31.91</td>\n",
       "      <td>24.17</td>\n",
       "    </tr>\n",
       "    <tr>\n",
       "      <th>1</th>\n",
       "      <td>8081.09</td>\n",
       "      <td>8081.30</td>\n",
       "      <td>8050.37</td>\n",
       "      <td>8050.37</td>\n",
       "      <td>128.045741</td>\n",
       "      <td>42.11</td>\n",
       "      <td>-1.64</td>\n",
       "      <td>6.59</td>\n",
       "      <td>-8.23</td>\n",
       "      <td>27.88</td>\n",
       "      <td>24.98</td>\n",
       "    </tr>\n",
       "    <tr>\n",
       "      <th>2</th>\n",
       "      <td>8050.27</td>\n",
       "      <td>8059.39</td>\n",
       "      <td>8042.89</td>\n",
       "      <td>8054.03</td>\n",
       "      <td>193.106203</td>\n",
       "      <td>43.36</td>\n",
       "      <td>-3.41</td>\n",
       "      <td>4.59</td>\n",
       "      <td>-8.00</td>\n",
       "      <td>35.03</td>\n",
       "      <td>31.61</td>\n",
       "    </tr>\n",
       "    <tr>\n",
       "      <th>3</th>\n",
       "      <td>8054.03</td>\n",
       "      <td>8054.03</td>\n",
       "      <td>8020.00</td>\n",
       "      <td>8027.63</td>\n",
       "      <td>290.159767</td>\n",
       "      <td>37.13</td>\n",
       "      <td>-6.87</td>\n",
       "      <td>2.30</td>\n",
       "      <td>-9.16</td>\n",
       "      <td>13.17</td>\n",
       "      <td>25.36</td>\n",
       "    </tr>\n",
       "    <tr>\n",
       "      <th>4</th>\n",
       "      <td>8029.22</td>\n",
       "      <td>8036.72</td>\n",
       "      <td>8010.00</td>\n",
       "      <td>8026.66</td>\n",
       "      <td>243.755800</td>\n",
       "      <td>36.92</td>\n",
       "      <td>-9.57</td>\n",
       "      <td>-0.08</td>\n",
       "      <td>-9.50</td>\n",
       "      <td>20.74</td>\n",
       "      <td>22.98</td>\n",
       "    </tr>\n",
       "  </tbody>\n",
       "</table>\n",
       "</div>"
      ],
      "text/plain": [
       "      Open     High      Low    Close      Volume    RSI  MACD  MACDSIGNAL  \\\n",
       "0  8054.34  8083.42  8054.34  8080.11  141.913060  50.52  1.02        8.64   \n",
       "1  8081.09  8081.30  8050.37  8050.37  128.045741  42.11 -1.64        6.59   \n",
       "2  8050.27  8059.39  8042.89  8054.03  193.106203  43.36 -3.41        4.59   \n",
       "3  8054.03  8054.03  8020.00  8027.63  290.159767  37.13 -6.87        2.30   \n",
       "4  8029.22  8036.72  8010.00  8026.66  243.755800  36.92 -9.57       -0.08   \n",
       "\n",
       "   MACDHIST  STOCHK  STOCHD  \n",
       "0     -7.63   31.91   24.17  \n",
       "1     -8.23   27.88   24.98  \n",
       "2     -8.00   35.03   31.61  \n",
       "3     -9.16   13.17   25.36  \n",
       "4     -9.50   20.74   22.98  "
      ]
     },
     "execution_count": 5,
     "metadata": {},
     "output_type": "execute_result"
    }
   ],
   "source": [
    "df.head()"
   ]
  },
  {
   "cell_type": "code",
   "execution_count": 6,
   "metadata": {},
   "outputs": [],
   "source": [
    "##Scaling Data to Observe Bivariate Analysis \n",
    "sc = MinMaxScaler(feature_range=(0,1))\n",
    "df_scaled= sc.fit_transform(df)"
   ]
  },
  {
   "cell_type": "code",
   "execution_count": 7,
   "metadata": {},
   "outputs": [
    {
     "data": {
      "text/plain": [
       "array([[0.06424012, 0.06146096, 0.06593032, ..., 0.60146314, 0.3191    ,\n",
       "        0.24426478],\n",
       "       [0.06465264, 0.0614283 , 0.06586905, ..., 0.60094613, 0.2788    ,\n",
       "        0.25245073],\n",
       "       [0.06417736, 0.06109074, 0.06575362, ..., 0.60114431, 0.3503    ,\n",
       "        0.31945427],\n",
       "       ...,\n",
       "       [0.58934753, 0.58641045, 0.59105907, ..., 0.61042464, 0.2232    ,\n",
       "        0.34451743],\n",
       "       [0.59005598, 0.58682875, 0.59212529, ..., 0.61067453, 0.4044    ,\n",
       "        0.30682163],\n",
       "       [0.59016131, 0.58832615, 0.5922307 , ..., 0.61360425, 0.6071    ,\n",
       "        0.41596766]])"
      ]
     },
     "execution_count": 7,
     "metadata": {},
     "output_type": "execute_result"
    }
   ],
   "source": [
    "df_scaled"
   ]
  },
  {
   "cell_type": "code",
   "execution_count": 8,
   "metadata": {},
   "outputs": [],
   "source": [
    "#validation data, training data and test data will be seperated\n",
    "data_training = df[:190000]\n",
    "validation_data = df[190000:205000]\n",
    "data_testing = df[205000:]"
   ]
  },
  {
   "cell_type": "code",
   "execution_count": 9,
   "metadata": {},
   "outputs": [],
   "source": [
    "sc1 = MinMaxScaler(feature_range=(0,1))\n",
    "sc2 = MinMaxScaler(feature_range=(0,1))"
   ]
  },
  {
   "cell_type": "code",
   "execution_count": 10,
   "metadata": {},
   "outputs": [
    {
     "name": "stdout",
     "output_type": "stream",
     "text": [
      "(190000, 11) (15000, 11) (5049, 11)\n"
     ]
    }
   ],
   "source": [
    "# Normalisation\n",
    "#sc = MinMaxScaler()\n",
    "train = sc1.fit_transform(data_training)\n",
    "val = sc1.fit_transform(validation_data)\n",
    "test = sc2.fit_transform((data_testing))\n",
    "                         #.iloc[:, 0]).to_frame()\n",
    "print(train.shape,val.shape,test.shape)"
   ]
  },
  {
   "cell_type": "code",
   "execution_count": 11,
   "metadata": {},
   "outputs": [
    {
     "data": {
      "text/plain": [
       "190000"
      ]
     },
     "execution_count": 11,
     "metadata": {},
     "output_type": "execute_result"
    }
   ],
   "source": [
    "train.shape[0]"
   ]
  },
  {
   "cell_type": "code",
   "execution_count": 12,
   "metadata": {},
   "outputs": [
    {
     "data": {
      "text/plain": [
       "array([[0.06610155, 0.06341503, 0.06783345, ..., 0.60146314, 0.31913191,\n",
       "        0.24426478],\n",
       "       [0.06652602, 0.06338133, 0.06777042, ..., 0.60094613, 0.27882788,\n",
       "        0.25245073],\n",
       "       [0.06603697, 0.06303303, 0.06765165, ..., 0.60114431, 0.35033503,\n",
       "        0.31945427],\n",
       "       ...,\n",
       "       [0.9483949 , 0.9480782 , 0.94912138, ..., 0.57400993, 0.31753175,\n",
       "        0.38888327],\n",
       "       [0.94803517, 0.9478841 , 0.94998751, ..., 0.577224  , 0.34763476,\n",
       "        0.36078828],\n",
       "       [0.9493262 , 0.9484939 , 0.95100719, ..., 0.58052425, 0.53305331,\n",
       "        0.4036382 ]])"
      ]
     },
     "execution_count": 12,
     "metadata": {},
     "output_type": "execute_result"
    }
   ],
   "source": [
    "train"
   ]
  },
  {
   "cell_type": "code",
   "execution_count": 13,
   "metadata": {},
   "outputs": [
    {
     "name": "stderr",
     "output_type": "stream",
     "text": [
      "wandb: WARNING The save_model argument by default saves the model in the HDF5 format that cannot save custom objects like subclassed models and custom layers. This behavior will be deprecated in a future release in favor of the SavedModel format. Meanwhile, the HDF5 model is saved as W&B files and the SavedModel as W&B Artifacts.\n"
     ]
    }
   ],
   "source": [
    "# Setting up an early stop\n",
    "earlystop = EarlyStopping(monitor='val_loss', min_delta=0.0001, patience=80,  verbose=1, mode='min')\n",
    "callbacks_list = [earlystop, WandbCallback()]"
   ]
  },
  {
   "cell_type": "code",
   "execution_count": 14,
   "metadata": {},
   "outputs": [],
   "source": [
    "##LSTM_MODEL"
   ]
  },
  {
   "cell_type": "code",
   "execution_count": 15,
   "metadata": {},
   "outputs": [],
   "source": [
    "#Build and train the model\n",
    "def fit_model(train,val,timesteps,lr,batch,epochs):\n",
    "    X_train = []\n",
    "    Y_train = []\n",
    "    X_val = []\n",
    "    Y_val = []\n",
    "    # Loop for training data\n",
    "    for i in range(timesteps,train.shape[0]):\n",
    "        X_train.append(train[i-timesteps:i])\n",
    "        Y_train.append(train[i][0])\n",
    "    X_train,Y_train = np.array(X_train),np.array(Y_train)\n",
    "  \n",
    "    # Loop for val data\n",
    "    for i in range(timesteps,val.shape[0]):\n",
    "        X_val.append(val[i-timesteps:i])\n",
    "        Y_val.append(val[i][0])\n",
    "    X_val,Y_val = np.array(X_val),np.array(Y_val)\n",
    "    print(Y_val.shape)\n",
    "    \n",
    "    # Adding Layers to the model\n",
    "    model = Sequential()\n",
    "    model.add(LSTM(units=64,input_shape = (X_train.shape[1],X_train.shape[2]),return_sequences = True,\n",
    "                   activation = 'relu'))\n",
    "    #model.add(Dropout(0.2))\n",
    "    \n",
    "    model.add(LSTM(units=32,input_shape = (X_train.shape[1],X_train.shape[2]),return_sequences = True,\n",
    "                   activation = 'relu'))\n",
    "    #model.add(Dropout(0.2))\n",
    "    \n",
    "    #for i in range(len(hl)-1):        \n",
    "    model.add(LSTM(units=32,activation = 'relu',input_shape = (X_train.shape[1],X_train.shape[2]),return_sequences = True))\n",
    "    #model.add(Dropout(0.3))\n",
    "    \n",
    "    model.add(LSTM(units=16,input_shape = (X_train.shape[1],X_train.shape[2]),activation = 'relu'))\n",
    "    #model.add(Dropout(0.4))\n",
    "    \n",
    "    model.add(Dense(1))\n",
    "    from tensorflow import keras\n",
    "    model.compile(optimizer = keras.optimizers.Adam(lr = 0.0008), loss = 'mean_squared_error')\n",
    "    \n",
    "    print(model.summary())\n",
    "  \n",
    "    # Training the data\n",
    "    history = model.fit(X_train,Y_train,epochs = epochs,batch_size = batch,validation_data = (X_val, Y_val),verbose = 1,\n",
    "                        shuffle = False, callbacks=callbacks_list)\n",
    "    #model.reset_states()\n",
    "    return model, history.history['loss'], history.history['val_loss']"
   ]
  },
  {
   "cell_type": "code",
   "execution_count": 16,
   "metadata": {},
   "outputs": [],
   "source": [
    "# Evaluating the model\n",
    "def evaluate_model(model,test,timesteps):\n",
    "    X_test = []\n",
    "    Y_test = []\n",
    "\n",
    "    # Loop for testing data\n",
    "    for i in range(timesteps,test.shape[0]):\n",
    "        X_test.append(test[i-timesteps:i])\n",
    "        Y_test.append(test[i][0])\n",
    "    X_test,Y_test = np.array(X_test),np.array(Y_test)\n",
    "    #print(X_test.shape,Y_test.shape)\n",
    "  \n",
    "    # Prediction Time !!!!\n",
    "    Y_hat = model.predict(X_test)\n",
    "    mse = mean_squared_error(Y_test,Y_hat)\n",
    "    rmse = sqrt(mse)\n",
    "    r = r2_score(Y_test,Y_hat)\n",
    "    return mse, rmse, r, Y_test, Y_hat\n",
    "  "
   ]
  },
  {
   "cell_type": "code",
   "execution_count": 17,
   "metadata": {},
   "outputs": [
    {
     "data": {
      "text/plain": [
       "'2.9.0'"
      ]
     },
     "execution_count": 17,
     "metadata": {},
     "output_type": "execute_result"
    }
   ],
   "source": [
    "keras.__version__"
   ]
  },
  {
   "cell_type": "code",
   "execution_count": 21,
   "metadata": {},
   "outputs": [],
   "source": [
    "timesteps = 5\n",
    "lr = 1e-3\n",
    "batch_size = 32\n",
    "num_epochs = 150"
   ]
  },
  {
   "cell_type": "code",
   "execution_count": 23,
   "metadata": {
    "collapsed": true,
    "jupyter": {
     "outputs_hidden": true
    }
   },
   "outputs": [
    {
     "name": "stdout",
     "output_type": "stream",
     "text": [
      "(14995,)\n",
      "Model: \"sequential\"\n",
      "_________________________________________________________________\n",
      " Layer (type)                Output Shape              Param #   \n",
      "=================================================================\n",
      " lstm (LSTM)                 (None, 5, 64)             19456     \n",
      "                                                                 \n",
      " lstm_1 (LSTM)               (None, 5, 32)             12416     \n",
      "                                                                 \n",
      " lstm_2 (LSTM)               (None, 5, 32)             8320      \n",
      "                                                                 \n",
      " lstm_3 (LSTM)               (None, 16)                3136      \n",
      "                                                                 \n",
      " dense (Dense)               (None, 1)                 17        \n",
      "                                                                 \n",
      "=================================================================\n",
      "Total params: 43,345\n",
      "Trainable params: 43,345\n",
      "Non-trainable params: 0\n",
      "_________________________________________________________________\n"
     ]
    },
    {
     "name": "stderr",
     "output_type": "stream",
     "text": [
      "/opt/conda/lib/python3.7/site-packages/keras/optimizers/optimizer_v2/adam.py:110: UserWarning: The `lr` argument is deprecated, use `learning_rate` instead.\n",
      "  super(Adam, self).__init__(name, **kwargs)\n"
     ]
    },
    {
     "name": "stdout",
     "output_type": "stream",
     "text": [
      "None\n",
      "Epoch 1/150\n",
      "5938/5938 [==============================] - 76s 12ms/step - loss: 3.1322e-04 - val_loss: 0.3258\n",
      "Epoch 2/150\n",
      "5938/5938 [==============================] - 72s 12ms/step - loss: 0.0014 - val_loss: 0.3133\n",
      "Epoch 3/150\n",
      "5938/5938 [==============================] - 81s 14ms/step - loss: 0.0012 - val_loss: 0.2668\n",
      "Epoch 4/150\n",
      "5938/5938 [==============================] - 73s 12ms/step - loss: 0.0013 - val_loss: 0.2213\n",
      "Epoch 5/150\n",
      "5938/5938 [==============================] - 71s 12ms/step - loss: 0.0010 - val_loss: 0.1717\n",
      "Epoch 6/150\n",
      "5938/5938 [==============================] - 72s 12ms/step - loss: 0.0013 - val_loss: 0.1687\n",
      "Epoch 7/150\n",
      "5938/5938 [==============================] - 72s 12ms/step - loss: 0.0012 - val_loss: 0.1320\n",
      "Epoch 8/150\n",
      "5938/5938 [==============================] - 71s 12ms/step - loss: 7.7322e-04 - val_loss: 0.1016\n",
      "Epoch 9/150\n",
      "5938/5938 [==============================] - 72s 12ms/step - loss: 3.9690e-04 - val_loss: 0.0522\n",
      "Epoch 10/150\n",
      "5936/5938 [============================>.] - ETA: 0s - loss: 2.0854e-04INFO:tensorflow:Assets written to: /root/wandb/run-20220808_181318-ame6ewke/files/model-best/assets\n"
     ]
    },
    {
     "name": "stderr",
     "output_type": "stream",
     "text": [
      "wandb: Adding directory to artifact (/root/wandb/run-20220808_181318-ame6ewke/files/model-best)... Done. 0.1s\n"
     ]
    },
    {
     "name": "stdout",
     "output_type": "stream",
     "text": [
      "5938/5938 [==============================] - 77s 13ms/step - loss: 2.0859e-04 - val_loss: 0.0345\n",
      "Epoch 11/150\n",
      "5934/5938 [============================>.] - ETA: 0s - loss: 1.1931e-04INFO:tensorflow:Assets written to: /root/wandb/run-20220808_181318-ame6ewke/files/model-best/assets\n"
     ]
    },
    {
     "name": "stderr",
     "output_type": "stream",
     "text": [
      "wandb: Adding directory to artifact (/root/wandb/run-20220808_181318-ame6ewke/files/model-best)... Done. 0.1s\n"
     ]
    },
    {
     "name": "stdout",
     "output_type": "stream",
     "text": [
      "5938/5938 [==============================] - 76s 13ms/step - loss: 1.1940e-04 - val_loss: 0.0254\n",
      "Epoch 12/150\n",
      "5935/5938 [============================>.] - ETA: 0s - loss: 9.1220e-05INFO:tensorflow:Assets written to: /root/wandb/run-20220808_181318-ame6ewke/files/model-best/assets\n"
     ]
    },
    {
     "name": "stderr",
     "output_type": "stream",
     "text": [
      "wandb: Adding directory to artifact (/root/wandb/run-20220808_181318-ame6ewke/files/model-best)... Done. 0.1s\n"
     ]
    },
    {
     "name": "stdout",
     "output_type": "stream",
     "text": [
      "5938/5938 [==============================] - 77s 13ms/step - loss: 9.1320e-05 - val_loss: 0.0229\n",
      "Epoch 13/150\n",
      "5935/5938 [============================>.] - ETA: 0s - loss: 8.7620e-05INFO:tensorflow:Assets written to: /root/wandb/run-20220808_181318-ame6ewke/files/model-best/assets\n"
     ]
    },
    {
     "name": "stderr",
     "output_type": "stream",
     "text": [
      "wandb: Adding directory to artifact (/root/wandb/run-20220808_181318-ame6ewke/files/model-best)... Done. 0.1s\n"
     ]
    },
    {
     "name": "stdout",
     "output_type": "stream",
     "text": [
      "5938/5938 [==============================] - 78s 13ms/step - loss: 8.7721e-05 - val_loss: 0.0213\n",
      "Epoch 14/150\n",
      "5934/5938 [============================>.] - ETA: 0s - loss: 8.2344e-05INFO:tensorflow:Assets written to: /root/wandb/run-20220808_181318-ame6ewke/files/model-best/assets\n"
     ]
    },
    {
     "name": "stderr",
     "output_type": "stream",
     "text": [
      "wandb: Adding directory to artifact (/root/wandb/run-20220808_181318-ame6ewke/files/model-best)... Done. 0.1s\n"
     ]
    },
    {
     "name": "stdout",
     "output_type": "stream",
     "text": [
      "5938/5938 [==============================] - 76s 13ms/step - loss: 8.2451e-05 - val_loss: 0.0202\n",
      "Epoch 15/150\n",
      "5935/5938 [============================>.] - ETA: 0s - loss: 7.8345e-05INFO:tensorflow:Assets written to: /root/wandb/run-20220808_181318-ame6ewke/files/model-best/assets\n"
     ]
    },
    {
     "name": "stderr",
     "output_type": "stream",
     "text": [
      "wandb: Adding directory to artifact (/root/wandb/run-20220808_181318-ame6ewke/files/model-best)... Done. 0.1s\n"
     ]
    },
    {
     "name": "stdout",
     "output_type": "stream",
     "text": [
      "5938/5938 [==============================] - 77s 13ms/step - loss: 7.8448e-05 - val_loss: 0.0189\n",
      "Epoch 16/150\n",
      "5937/5938 [============================>.] - ETA: 0s - loss: 7.4573e-05INFO:tensorflow:Assets written to: /root/wandb/run-20220808_181318-ame6ewke/files/model-best/assets\n"
     ]
    },
    {
     "name": "stderr",
     "output_type": "stream",
     "text": [
      "wandb: Adding directory to artifact (/root/wandb/run-20220808_181318-ame6ewke/files/model-best)... Done. 0.1s\n"
     ]
    },
    {
     "name": "stdout",
     "output_type": "stream",
     "text": [
      "5938/5938 [==============================] - 82s 14ms/step - loss: 7.4592e-05 - val_loss: 0.0184\n",
      "Epoch 17/150\n",
      "5934/5938 [============================>.] - ETA: 0s - loss: 7.1283e-05INFO:tensorflow:Assets written to: /root/wandb/run-20220808_181318-ame6ewke/files/model-best/assets\n"
     ]
    },
    {
     "name": "stderr",
     "output_type": "stream",
     "text": [
      "wandb: Adding directory to artifact (/root/wandb/run-20220808_181318-ame6ewke/files/model-best)... Done. 0.1s\n"
     ]
    },
    {
     "name": "stdout",
     "output_type": "stream",
     "text": [
      "5938/5938 [==============================] - 78s 13ms/step - loss: 7.1396e-05 - val_loss: 0.0182\n",
      "Epoch 18/150\n",
      "5938/5938 [==============================] - 71s 12ms/step - loss: 6.7890e-05 - val_loss: 0.0190\n",
      "Epoch 19/150\n",
      "5938/5938 [==============================] - 71s 12ms/step - loss: 6.8401e-05 - val_loss: 0.0190\n",
      "Epoch 20/150\n",
      "5934/5938 [============================>.] - ETA: 0s - loss: 6.8797e-05INFO:tensorflow:Assets written to: /root/wandb/run-20220808_181318-ame6ewke/files/model-best/assets\n"
     ]
    },
    {
     "name": "stderr",
     "output_type": "stream",
     "text": [
      "wandb: Adding directory to artifact (/root/wandb/run-20220808_181318-ame6ewke/files/model-best)... Done. 0.1s\n"
     ]
    },
    {
     "name": "stdout",
     "output_type": "stream",
     "text": [
      "5938/5938 [==============================] - 78s 13ms/step - loss: 6.8913e-05 - val_loss: 0.0178\n",
      "Epoch 21/150\n",
      "5938/5938 [==============================] - 73s 12ms/step - loss: 6.3490e-05 - val_loss: 0.0188\n",
      "Epoch 22/150\n",
      "5938/5938 [==============================] - 71s 12ms/step - loss: 6.2909e-05 - val_loss: 0.0188\n",
      "Epoch 23/150\n",
      "5938/5938 [==============================] - 71s 12ms/step - loss: 6.1006e-05 - val_loss: 0.0195\n",
      "Epoch 24/150\n",
      "5938/5938 [==============================] - 71s 12ms/step - loss: 6.4334e-05 - val_loss: 0.0195\n",
      "Epoch 25/150\n",
      "5938/5938 [==============================] - 73s 12ms/step - loss: 6.4458e-05 - val_loss: 0.0191\n",
      "Epoch 26/150\n",
      "5938/5938 [==============================] - 71s 12ms/step - loss: 6.2306e-05 - val_loss: 0.0185\n",
      "Epoch 27/150\n",
      "5938/5938 [==============================] - 71s 12ms/step - loss: 6.0689e-05 - val_loss: 0.0180\n",
      "Epoch 28/150\n",
      "5937/5938 [============================>.] - ETA: 0s - loss: 5.8932e-05INFO:tensorflow:Assets written to: /root/wandb/run-20220808_181318-ame6ewke/files/model-best/assets\n"
     ]
    },
    {
     "name": "stderr",
     "output_type": "stream",
     "text": [
      "wandb: Adding directory to artifact (/root/wandb/run-20220808_181318-ame6ewke/files/model-best)... Done. 0.1s\n"
     ]
    },
    {
     "name": "stdout",
     "output_type": "stream",
     "text": [
      "5938/5938 [==============================] - 78s 13ms/step - loss: 5.8954e-05 - val_loss: 0.0176\n",
      "Epoch 29/150\n",
      "5935/5938 [============================>.] - ETA: 0s - loss: 5.7735e-05INFO:tensorflow:Assets written to: /root/wandb/run-20220808_181318-ame6ewke/files/model-best/assets\n"
     ]
    },
    {
     "name": "stderr",
     "output_type": "stream",
     "text": [
      "wandb: Adding directory to artifact (/root/wandb/run-20220808_181318-ame6ewke/files/model-best)... Done. 0.1s\n"
     ]
    },
    {
     "name": "stdout",
     "output_type": "stream",
     "text": [
      "5938/5938 [==============================] - 81s 14ms/step - loss: 5.7870e-05 - val_loss: 0.0170\n",
      "Epoch 30/150\n",
      "5938/5938 [==============================] - ETA: 0s - loss: 5.4929e-05INFO:tensorflow:Assets written to: /root/wandb/run-20220808_181318-ame6ewke/files/model-best/assets\n"
     ]
    },
    {
     "name": "stderr",
     "output_type": "stream",
     "text": [
      "wandb: Adding directory to artifact (/root/wandb/run-20220808_181318-ame6ewke/files/model-best)... Done. 0.1s\n"
     ]
    },
    {
     "name": "stdout",
     "output_type": "stream",
     "text": [
      "5938/5938 [==============================] - 77s 13ms/step - loss: 5.4929e-05 - val_loss: 0.0169\n",
      "Epoch 31/150\n",
      "5938/5938 [==============================] - 72s 12ms/step - loss: 5.6240e-05 - val_loss: 0.0170\n",
      "Epoch 32/150\n",
      "5938/5938 [==============================] - 72s 12ms/step - loss: 5.5857e-05 - val_loss: 0.0172\n",
      "Epoch 33/150\n",
      "5934/5938 [============================>.] - ETA: 0s - loss: 5.4529e-05INFO:tensorflow:Assets written to: /root/wandb/run-20220808_181318-ame6ewke/files/model-best/assets\n"
     ]
    },
    {
     "name": "stderr",
     "output_type": "stream",
     "text": [
      "wandb: Adding directory to artifact (/root/wandb/run-20220808_181318-ame6ewke/files/model-best)... Done. 0.1s\n"
     ]
    },
    {
     "name": "stdout",
     "output_type": "stream",
     "text": [
      "5938/5938 [==============================] - 79s 13ms/step - loss: 5.4708e-05 - val_loss: 0.0167\n",
      "Epoch 34/150\n",
      "5935/5938 [============================>.] - ETA: 0s - loss: 5.3350e-05INFO:tensorflow:Assets written to: /root/wandb/run-20220808_181318-ame6ewke/files/model-best/assets\n"
     ]
    },
    {
     "name": "stderr",
     "output_type": "stream",
     "text": [
      "wandb: Adding directory to artifact (/root/wandb/run-20220808_181318-ame6ewke/files/model-best)... Done. 0.1s\n"
     ]
    },
    {
     "name": "stdout",
     "output_type": "stream",
     "text": [
      "5938/5938 [==============================] - 77s 13ms/step - loss: 5.3507e-05 - val_loss: 0.0162\n",
      "Epoch 35/150\n",
      "5936/5938 [============================>.] - ETA: 0s - loss: 5.2084e-05INFO:tensorflow:Assets written to: /root/wandb/run-20220808_181318-ame6ewke/files/model-best/assets\n"
     ]
    },
    {
     "name": "stderr",
     "output_type": "stream",
     "text": [
      "wandb: Adding directory to artifact (/root/wandb/run-20220808_181318-ame6ewke/files/model-best)... Done. 0.1s\n"
     ]
    },
    {
     "name": "stdout",
     "output_type": "stream",
     "text": [
      "5938/5938 [==============================] - 77s 13ms/step - loss: 5.2189e-05 - val_loss: 0.0160\n",
      "Epoch 36/150\n",
      "5934/5938 [============================>.] - ETA: 0s - loss: 5.1494e-05INFO:tensorflow:Assets written to: /root/wandb/run-20220808_181318-ame6ewke/files/model-best/assets\n"
     ]
    },
    {
     "name": "stderr",
     "output_type": "stream",
     "text": [
      "wandb: Adding directory to artifact (/root/wandb/run-20220808_181318-ame6ewke/files/model-best)... Done. 0.1s\n"
     ]
    },
    {
     "name": "stdout",
     "output_type": "stream",
     "text": [
      "5938/5938 [==============================] - 80s 13ms/step - loss: 5.1683e-05 - val_loss: 0.0158\n",
      "Epoch 37/150\n",
      "5938/5938 [==============================] - ETA: 0s - loss: 5.1144e-05INFO:tensorflow:Assets written to: /root/wandb/run-20220808_181318-ame6ewke/files/model-best/assets\n"
     ]
    },
    {
     "name": "stderr",
     "output_type": "stream",
     "text": [
      "wandb: Adding directory to artifact (/root/wandb/run-20220808_181318-ame6ewke/files/model-best)... Done. 0.1s\n"
     ]
    },
    {
     "name": "stdout",
     "output_type": "stream",
     "text": [
      "5938/5938 [==============================] - 78s 13ms/step - loss: 5.1144e-05 - val_loss: 0.0155\n",
      "Epoch 38/150\n",
      "5935/5938 [============================>.] - ETA: 0s - loss: 5.0235e-05INFO:tensorflow:Assets written to: /root/wandb/run-20220808_181318-ame6ewke/files/model-best/assets\n"
     ]
    },
    {
     "name": "stderr",
     "output_type": "stream",
     "text": [
      "wandb: Adding directory to artifact (/root/wandb/run-20220808_181318-ame6ewke/files/model-best)... Done. 0.1s\n"
     ]
    },
    {
     "name": "stdout",
     "output_type": "stream",
     "text": [
      "5938/5938 [==============================] - 77s 13ms/step - loss: 5.0405e-05 - val_loss: 0.0150\n",
      "Epoch 39/150\n",
      "5938/5938 [==============================] - ETA: 0s - loss: 4.9633e-05INFO:tensorflow:Assets written to: /root/wandb/run-20220808_181318-ame6ewke/files/model-best/assets\n"
     ]
    },
    {
     "name": "stderr",
     "output_type": "stream",
     "text": [
      "wandb: Adding directory to artifact (/root/wandb/run-20220808_181318-ame6ewke/files/model-best)... Done. 0.1s\n"
     ]
    },
    {
     "name": "stdout",
     "output_type": "stream",
     "text": [
      "5938/5938 [==============================] - 77s 13ms/step - loss: 4.9633e-05 - val_loss: 0.0143\n",
      "Epoch 40/150\n",
      "5938/5938 [==============================] - ETA: 0s - loss: 4.8622e-05INFO:tensorflow:Assets written to: /root/wandb/run-20220808_181318-ame6ewke/files/model-best/assets\n"
     ]
    },
    {
     "name": "stderr",
     "output_type": "stream",
     "text": [
      "wandb: Adding directory to artifact (/root/wandb/run-20220808_181318-ame6ewke/files/model-best)... Done. 0.1s\n"
     ]
    },
    {
     "name": "stdout",
     "output_type": "stream",
     "text": [
      "5938/5938 [==============================] - 80s 13ms/step - loss: 4.8622e-05 - val_loss: 0.0139\n",
      "Epoch 41/150\n",
      "5937/5938 [============================>.] - ETA: 0s - loss: 4.7833e-05INFO:tensorflow:Assets written to: /root/wandb/run-20220808_181318-ame6ewke/files/model-best/assets\n"
     ]
    },
    {
     "name": "stderr",
     "output_type": "stream",
     "text": [
      "wandb: Adding directory to artifact (/root/wandb/run-20220808_181318-ame6ewke/files/model-best)... Done. 0.1s\n"
     ]
    },
    {
     "name": "stdout",
     "output_type": "stream",
     "text": [
      "5938/5938 [==============================] - 78s 13ms/step - loss: 4.7862e-05 - val_loss: 0.0136\n",
      "Epoch 42/150\n",
      "5937/5938 [============================>.] - ETA: 0s - loss: 4.6639e-05INFO:tensorflow:Assets written to: /root/wandb/run-20220808_181318-ame6ewke/files/model-best/assets\n"
     ]
    },
    {
     "name": "stderr",
     "output_type": "stream",
     "text": [
      "wandb: Adding directory to artifact (/root/wandb/run-20220808_181318-ame6ewke/files/model-best)... Done. 0.1s\n"
     ]
    },
    {
     "name": "stdout",
     "output_type": "stream",
     "text": [
      "5938/5938 [==============================] - 78s 13ms/step - loss: 4.6669e-05 - val_loss: 0.0133\n",
      "Epoch 43/150\n",
      "5938/5938 [==============================] - ETA: 0s - loss: 4.5884e-05INFO:tensorflow:Assets written to: /root/wandb/run-20220808_181318-ame6ewke/files/model-best/assets\n"
     ]
    },
    {
     "name": "stderr",
     "output_type": "stream",
     "text": [
      "wandb: Adding directory to artifact (/root/wandb/run-20220808_181318-ame6ewke/files/model-best)... Done. 0.1s\n"
     ]
    },
    {
     "name": "stdout",
     "output_type": "stream",
     "text": [
      "5938/5938 [==============================] - 80s 13ms/step - loss: 4.5884e-05 - val_loss: 0.0133\n",
      "Epoch 44/150\n",
      "5936/5938 [============================>.] - ETA: 0s - loss: 4.5436e-05INFO:tensorflow:Assets written to: /root/wandb/run-20220808_181318-ame6ewke/files/model-best/assets\n"
     ]
    },
    {
     "name": "stderr",
     "output_type": "stream",
     "text": [
      "wandb: Adding directory to artifact (/root/wandb/run-20220808_181318-ame6ewke/files/model-best)... Done. 0.1s\n"
     ]
    },
    {
     "name": "stdout",
     "output_type": "stream",
     "text": [
      "5938/5938 [==============================] - 83s 14ms/step - loss: 4.5572e-05 - val_loss: 0.0132\n",
      "Epoch 45/150\n",
      "5938/5938 [==============================] - 86s 15ms/step - loss: 4.5721e-05 - val_loss: 0.0134\n",
      "Epoch 46/150\n",
      "5937/5938 [============================>.] - ETA: 0s - loss: 4.5337e-05INFO:tensorflow:Assets written to: /root/wandb/run-20220808_181318-ame6ewke/files/model-best/assets\n"
     ]
    },
    {
     "name": "stderr",
     "output_type": "stream",
     "text": [
      "wandb: Adding directory to artifact (/root/wandb/run-20220808_181318-ame6ewke/files/model-best)... Done. 0.1s\n"
     ]
    },
    {
     "name": "stdout",
     "output_type": "stream",
     "text": [
      "5938/5938 [==============================] - 78s 13ms/step - loss: 4.5373e-05 - val_loss: 0.0131\n",
      "Epoch 47/150\n",
      "5934/5938 [============================>.] - ETA: 0s - loss: 4.5277e-05INFO:tensorflow:Assets written to: /root/wandb/run-20220808_181318-ame6ewke/files/model-best/assets\n"
     ]
    },
    {
     "name": "stderr",
     "output_type": "stream",
     "text": [
      "wandb: Adding directory to artifact (/root/wandb/run-20220808_181318-ame6ewke/files/model-best)... Done. 0.1s\n"
     ]
    },
    {
     "name": "stdout",
     "output_type": "stream",
     "text": [
      "5938/5938 [==============================] - 78s 13ms/step - loss: 4.5563e-05 - val_loss: 0.0131\n",
      "Epoch 48/150\n",
      "5937/5938 [============================>.] - ETA: 0s - loss: 4.4947e-05INFO:tensorflow:Assets written to: /root/wandb/run-20220808_181318-ame6ewke/files/model-best/assets\n"
     ]
    },
    {
     "name": "stderr",
     "output_type": "stream",
     "text": [
      "wandb: Adding directory to artifact (/root/wandb/run-20220808_181318-ame6ewke/files/model-best)... Done. 0.1s\n"
     ]
    },
    {
     "name": "stdout",
     "output_type": "stream",
     "text": [
      "5938/5938 [==============================] - 78s 13ms/step - loss: 4.4985e-05 - val_loss: 0.0128\n",
      "Epoch 49/150\n",
      "5934/5938 [============================>.] - ETA: 0s - loss: 4.4473e-05INFO:tensorflow:Assets written to: /root/wandb/run-20220808_181318-ame6ewke/files/model-best/assets\n"
     ]
    },
    {
     "name": "stderr",
     "output_type": "stream",
     "text": [
      "wandb: Adding directory to artifact (/root/wandb/run-20220808_181318-ame6ewke/files/model-best)... Done. 0.1s\n"
     ]
    },
    {
     "name": "stdout",
     "output_type": "stream",
     "text": [
      "5938/5938 [==============================] - 79s 13ms/step - loss: 4.4785e-05 - val_loss: 0.0128\n",
      "Epoch 50/150\n",
      "5935/5938 [============================>.] - ETA: 0s - loss: 4.3869e-05INFO:tensorflow:Assets written to: /root/wandb/run-20220808_181318-ame6ewke/files/model-best/assets\n"
     ]
    },
    {
     "name": "stderr",
     "output_type": "stream",
     "text": [
      "wandb: Adding directory to artifact (/root/wandb/run-20220808_181318-ame6ewke/files/model-best)... Done. 0.1s\n"
     ]
    },
    {
     "name": "stdout",
     "output_type": "stream",
     "text": [
      "5938/5938 [==============================] - 78s 13ms/step - loss: 4.4136e-05 - val_loss: 0.0123\n",
      "Epoch 51/150\n",
      "5938/5938 [==============================] - 72s 12ms/step - loss: 4.3300e-05 - val_loss: 0.0123\n",
      "Epoch 52/150\n",
      "5938/5938 [==============================] - 72s 12ms/step - loss: 4.5878e-05 - val_loss: 0.0140\n",
      "Epoch 53/150\n",
      "5936/5938 [============================>.] - ETA: 0s - loss: 4.4779e-05INFO:tensorflow:Assets written to: /root/wandb/run-20220808_181318-ame6ewke/files/model-best/assets\n"
     ]
    },
    {
     "name": "stderr",
     "output_type": "stream",
     "text": [
      "wandb: Adding directory to artifact (/root/wandb/run-20220808_181318-ame6ewke/files/model-best)... Done. 0.1s\n"
     ]
    },
    {
     "name": "stdout",
     "output_type": "stream",
     "text": [
      "5938/5938 [==============================] - 78s 13ms/step - loss: 4.4982e-05 - val_loss: 0.0115\n",
      "Epoch 54/150\n",
      "5938/5938 [==============================] - 72s 12ms/step - loss: 4.5316e-05 - val_loss: 0.0137\n",
      "Epoch 55/150\n",
      "5938/5938 [==============================] - 71s 12ms/step - loss: 4.5134e-05 - val_loss: 0.0119\n",
      "Epoch 56/150\n",
      "5938/5938 [==============================] - 73s 12ms/step - loss: 4.4917e-05 - val_loss: 0.0131\n",
      "Epoch 57/150\n",
      "5938/5938 [==============================] - 71s 12ms/step - loss: 4.4498e-05 - val_loss: 0.0120\n",
      "Epoch 58/150\n",
      "5938/5938 [==============================] - 71s 12ms/step - loss: 4.3773e-05 - val_loss: 0.0121\n",
      "Epoch 59/150\n",
      "5938/5938 [==============================] - 72s 12ms/step - loss: 4.3134e-05 - val_loss: 0.0118\n",
      "Epoch 60/150\n",
      "5938/5938 [==============================] - 73s 12ms/step - loss: 4.3868e-05 - val_loss: 0.0121\n",
      "Epoch 61/150\n",
      "5938/5938 [==============================] - 72s 12ms/step - loss: 4.3027e-05 - val_loss: 0.0116\n",
      "Epoch 62/150\n",
      "5938/5938 [==============================] - 72s 12ms/step - loss: 4.3381e-05 - val_loss: 0.0116\n",
      "Epoch 63/150\n",
      "5934/5938 [============================>.] - ETA: 0s - loss: 4.2742e-05INFO:tensorflow:Assets written to: /root/wandb/run-20220808_181318-ame6ewke/files/model-best/assets\n"
     ]
    },
    {
     "name": "stderr",
     "output_type": "stream",
     "text": [
      "wandb: Adding directory to artifact (/root/wandb/run-20220808_181318-ame6ewke/files/model-best)... Done. 0.1s\n"
     ]
    },
    {
     "name": "stdout",
     "output_type": "stream",
     "text": [
      "5938/5938 [==============================] - 78s 13ms/step - loss: 4.3258e-05 - val_loss: 0.0114\n",
      "Epoch 64/150\n",
      "5938/5938 [==============================] - 76s 13ms/step - loss: 4.2817e-05 - val_loss: 0.0116\n",
      "Epoch 65/150\n",
      "5938/5938 [==============================] - 72s 12ms/step - loss: 4.3503e-05 - val_loss: 0.0116\n",
      "Epoch 66/150\n",
      "5938/5938 [==============================] - 72s 12ms/step - loss: 4.3524e-05 - val_loss: 0.0115\n",
      "Epoch 67/150\n",
      "5938/5938 [==============================] - 72s 12ms/step - loss: 4.3597e-05 - val_loss: 0.0115\n",
      "Epoch 68/150\n",
      "5936/5938 [============================>.] - ETA: 0s - loss: 4.3553e-05INFO:tensorflow:Assets written to: /root/wandb/run-20220808_181318-ame6ewke/files/model-best/assets\n"
     ]
    },
    {
     "name": "stderr",
     "output_type": "stream",
     "text": [
      "wandb: Adding directory to artifact (/root/wandb/run-20220808_181318-ame6ewke/files/model-best)... Done. 0.1s\n"
     ]
    },
    {
     "name": "stdout",
     "output_type": "stream",
     "text": [
      "5938/5938 [==============================] - 79s 13ms/step - loss: 4.3842e-05 - val_loss: 0.0113\n",
      "Epoch 69/150\n",
      "5937/5938 [============================>.] - ETA: 0s - loss: 4.4106e-05INFO:tensorflow:Assets written to: /root/wandb/run-20220808_181318-ame6ewke/files/model-best/assets\n"
     ]
    },
    {
     "name": "stderr",
     "output_type": "stream",
     "text": [
      "wandb: Adding directory to artifact (/root/wandb/run-20220808_181318-ame6ewke/files/model-best)... Done. 0.1s\n"
     ]
    },
    {
     "name": "stdout",
     "output_type": "stream",
     "text": [
      "5938/5938 [==============================] - 78s 13ms/step - loss: 4.4181e-05 - val_loss: 0.0112\n",
      "Epoch 70/150\n",
      "5938/5938 [==============================] - ETA: 0s - loss: 4.3785e-05INFO:tensorflow:Assets written to: /root/wandb/run-20220808_181318-ame6ewke/files/model-best/assets\n"
     ]
    },
    {
     "name": "stderr",
     "output_type": "stream",
     "text": [
      "wandb: Adding directory to artifact (/root/wandb/run-20220808_181318-ame6ewke/files/model-best)... Done. 0.1s\n"
     ]
    },
    {
     "name": "stdout",
     "output_type": "stream",
     "text": [
      "5938/5938 [==============================] - 78s 13ms/step - loss: 4.3785e-05 - val_loss: 0.0111\n",
      "Epoch 71/150\n",
      "5938/5938 [==============================] - ETA: 0s - loss: 4.3514e-05INFO:tensorflow:Assets written to: /root/wandb/run-20220808_181318-ame6ewke/files/model-best/assets\n"
     ]
    },
    {
     "name": "stderr",
     "output_type": "stream",
     "text": [
      "wandb: Adding directory to artifact (/root/wandb/run-20220808_181318-ame6ewke/files/model-best)... Done. 0.1s\n"
     ]
    },
    {
     "name": "stdout",
     "output_type": "stream",
     "text": [
      "5938/5938 [==============================] - 77s 13ms/step - loss: 4.3514e-05 - val_loss: 0.0109\n",
      "Epoch 72/150\n",
      "5937/5938 [============================>.] - ETA: 0s - loss: 4.3270e-05INFO:tensorflow:Assets written to: /root/wandb/run-20220808_181318-ame6ewke/files/model-best/assets\n"
     ]
    },
    {
     "name": "stderr",
     "output_type": "stream",
     "text": [
      "wandb: Adding directory to artifact (/root/wandb/run-20220808_181318-ame6ewke/files/model-best)... Done. 0.1s\n"
     ]
    },
    {
     "name": "stdout",
     "output_type": "stream",
     "text": [
      "5938/5938 [==============================] - 80s 13ms/step - loss: 4.3345e-05 - val_loss: 0.0108\n",
      "Epoch 73/150\n",
      "5937/5938 [============================>.] - ETA: 0s - loss: 4.3093e-05INFO:tensorflow:Assets written to: /root/wandb/run-20220808_181318-ame6ewke/files/model-best/assets\n"
     ]
    },
    {
     "name": "stderr",
     "output_type": "stream",
     "text": [
      "wandb: Adding directory to artifact (/root/wandb/run-20220808_181318-ame6ewke/files/model-best)... Done. 0.1s\n"
     ]
    },
    {
     "name": "stdout",
     "output_type": "stream",
     "text": [
      "5938/5938 [==============================] - 78s 13ms/step - loss: 4.3169e-05 - val_loss: 0.0106\n",
      "Epoch 74/150\n",
      "5938/5938 [==============================] - ETA: 0s - loss: 4.2484e-05INFO:tensorflow:Assets written to: /root/wandb/run-20220808_181318-ame6ewke/files/model-best/assets\n"
     ]
    },
    {
     "name": "stderr",
     "output_type": "stream",
     "text": [
      "wandb: Adding directory to artifact (/root/wandb/run-20220808_181318-ame6ewke/files/model-best)... Done. 0.1s\n"
     ]
    },
    {
     "name": "stdout",
     "output_type": "stream",
     "text": [
      "5938/5938 [==============================] - 80s 13ms/step - loss: 4.2484e-05 - val_loss: 0.0105\n",
      "Epoch 75/150\n",
      "5936/5938 [============================>.] - ETA: 0s - loss: 4.1989e-05INFO:tensorflow:Assets written to: /root/wandb/run-20220808_181318-ame6ewke/files/model-best/assets\n"
     ]
    },
    {
     "name": "stderr",
     "output_type": "stream",
     "text": [
      "wandb: Adding directory to artifact (/root/wandb/run-20220808_181318-ame6ewke/files/model-best)... Done. 0.1s\n"
     ]
    },
    {
     "name": "stdout",
     "output_type": "stream",
     "text": [
      "5938/5938 [==============================] - 78s 13ms/step - loss: 4.2291e-05 - val_loss: 0.0103\n",
      "Epoch 76/150\n",
      "5934/5938 [============================>.] - ETA: 0s - loss: 4.1330e-05INFO:tensorflow:Assets written to: /root/wandb/run-20220808_181318-ame6ewke/files/model-best/assets\n"
     ]
    },
    {
     "name": "stderr",
     "output_type": "stream",
     "text": [
      "wandb: Adding directory to artifact (/root/wandb/run-20220808_181318-ame6ewke/files/model-best)... Done. 0.1s\n"
     ]
    },
    {
     "name": "stdout",
     "output_type": "stream",
     "text": [
      "5938/5938 [==============================] - 80s 13ms/step - loss: 4.1913e-05 - val_loss: 0.0102\n",
      "Epoch 77/150\n",
      "5936/5938 [============================>.] - ETA: 0s - loss: 4.1621e-05INFO:tensorflow:Assets written to: /root/wandb/run-20220808_181318-ame6ewke/files/model-best/assets\n"
     ]
    },
    {
     "name": "stderr",
     "output_type": "stream",
     "text": [
      "wandb: Adding directory to artifact (/root/wandb/run-20220808_181318-ame6ewke/files/model-best)... Done. 0.1s\n"
     ]
    },
    {
     "name": "stdout",
     "output_type": "stream",
     "text": [
      "5938/5938 [==============================] - 79s 13ms/step - loss: 4.1928e-05 - val_loss: 0.0101\n",
      "Epoch 78/150\n",
      "5938/5938 [==============================] - ETA: 0s - loss: 4.1848e-05INFO:tensorflow:Assets written to: /root/wandb/run-20220808_181318-ame6ewke/files/model-best/assets\n"
     ]
    },
    {
     "name": "stderr",
     "output_type": "stream",
     "text": [
      "wandb: Adding directory to artifact (/root/wandb/run-20220808_181318-ame6ewke/files/model-best)... Done. 0.1s\n"
     ]
    },
    {
     "name": "stdout",
     "output_type": "stream",
     "text": [
      "5938/5938 [==============================] - 78s 13ms/step - loss: 4.1848e-05 - val_loss: 0.0100\n",
      "Epoch 79/150\n",
      "5937/5938 [============================>.] - ETA: 0s - loss: 4.1354e-05INFO:tensorflow:Assets written to: /root/wandb/run-20220808_181318-ame6ewke/files/model-best/assets\n"
     ]
    },
    {
     "name": "stderr",
     "output_type": "stream",
     "text": [
      "wandb: Adding directory to artifact (/root/wandb/run-20220808_181318-ame6ewke/files/model-best)... Done. 0.1s\n"
     ]
    },
    {
     "name": "stdout",
     "output_type": "stream",
     "text": [
      "5938/5938 [==============================] - 78s 13ms/step - loss: 4.1434e-05 - val_loss: 0.0098\n",
      "Epoch 80/150\n",
      "5936/5938 [============================>.] - ETA: 0s - loss: 4.1222e-05INFO:tensorflow:Assets written to: /root/wandb/run-20220808_181318-ame6ewke/files/model-best/assets\n"
     ]
    },
    {
     "name": "stderr",
     "output_type": "stream",
     "text": [
      "wandb: Adding directory to artifact (/root/wandb/run-20220808_181318-ame6ewke/files/model-best)... Done. 0.1s\n"
     ]
    },
    {
     "name": "stdout",
     "output_type": "stream",
     "text": [
      "5938/5938 [==============================] - 79s 13ms/step - loss: 4.1541e-05 - val_loss: 0.0097\n",
      "Epoch 81/150\n",
      "5938/5938 [==============================] - 72s 12ms/step - loss: 4.1938e-05 - val_loss: 0.0101\n",
      "Epoch 82/150\n",
      "5938/5938 [==============================] - 72s 12ms/step - loss: 4.2482e-05 - val_loss: 0.0101\n",
      "Epoch 83/150\n",
      "5938/5938 [==============================] - 82s 14ms/step - loss: 4.2775e-05 - val_loss: 0.0102\n",
      "Epoch 84/150\n",
      "5938/5938 [==============================] - 83s 14ms/step - loss: 4.3121e-05 - val_loss: 0.0102\n",
      "Epoch 85/150\n",
      "5938/5938 [==============================] - 72s 12ms/step - loss: 4.3181e-05 - val_loss: 0.0103\n",
      "Epoch 86/150\n",
      "5938/5938 [==============================] - 73s 12ms/step - loss: 4.3458e-05 - val_loss: 0.0103\n",
      "Epoch 87/150\n",
      "5938/5938 [==============================] - 72s 12ms/step - loss: 4.3789e-05 - val_loss: 0.0103\n",
      "Epoch 88/150\n",
      "5938/5938 [==============================] - 74s 13ms/step - loss: 4.3764e-05 - val_loss: 0.0103\n",
      "Epoch 89/150\n",
      "5938/5938 [==============================] - 72s 12ms/step - loss: 4.3666e-05 - val_loss: 0.0103\n",
      "Epoch 90/150\n",
      "5938/5938 [==============================] - 71s 12ms/step - loss: 4.3663e-05 - val_loss: 0.0105\n",
      "Epoch 91/150\n",
      "5938/5938 [==============================] - 72s 12ms/step - loss: 4.4300e-05 - val_loss: 0.0105\n",
      "Epoch 92/150\n",
      "5938/5938 [==============================] - 84s 14ms/step - loss: 4.4392e-05 - val_loss: 0.0103\n",
      "Epoch 93/150\n",
      "5938/5938 [==============================] - 85s 14ms/step - loss: 4.4226e-05 - val_loss: 0.0105\n",
      "Epoch 94/150\n",
      "5938/5938 [==============================] - 85s 14ms/step - loss: 4.4542e-05 - val_loss: 0.0111\n",
      "Epoch 95/150\n",
      "5938/5938 [==============================] - 81s 14ms/step - loss: 4.5512e-05 - val_loss: 0.0111\n",
      "Epoch 96/150\n",
      "5938/5938 [==============================] - 70s 12ms/step - loss: 4.5108e-05 - val_loss: 0.0113\n",
      "Epoch 97/150\n",
      "5938/5938 [==============================] - 72s 12ms/step - loss: 4.5790e-05 - val_loss: 0.0111\n",
      "Epoch 98/150\n",
      "5938/5938 [==============================] - 71s 12ms/step - loss: 4.5432e-05 - val_loss: 0.0112\n",
      "Epoch 99/150\n",
      "5938/5938 [==============================] - 73s 12ms/step - loss: 4.5584e-05 - val_loss: 0.0114\n",
      "Epoch 100/150\n",
      "5938/5938 [==============================] - 71s 12ms/step - loss: 4.5971e-05 - val_loss: 0.0116\n",
      "Epoch 101/150\n",
      "5938/5938 [==============================] - 71s 12ms/step - loss: 4.6712e-05 - val_loss: 0.0119\n",
      "Epoch 102/150\n",
      "5938/5938 [==============================] - 71s 12ms/step - loss: 4.7739e-05 - val_loss: 0.0122\n",
      "Epoch 103/150\n",
      "5938/5938 [==============================] - 71s 12ms/step - loss: 4.9088e-05 - val_loss: 0.0122\n",
      "Epoch 104/150\n",
      "5938/5938 [==============================] - 72s 12ms/step - loss: 4.9858e-05 - val_loss: 0.0126\n",
      "Epoch 105/150\n",
      "5938/5938 [==============================] - 71s 12ms/step - loss: 5.1202e-05 - val_loss: 0.0128\n",
      "Epoch 106/150\n",
      "5938/5938 [==============================] - 70s 12ms/step - loss: 5.2026e-05 - val_loss: 0.0126\n",
      "Epoch 107/150\n",
      "5938/5938 [==============================] - 71s 12ms/step - loss: 5.1907e-05 - val_loss: 0.0121\n",
      "Epoch 108/150\n",
      "5938/5938 [==============================] - 72s 12ms/step - loss: 5.2511e-05 - val_loss: 0.0122\n",
      "Epoch 109/150\n",
      "5938/5938 [==============================] - 71s 12ms/step - loss: 5.3742e-05 - val_loss: 0.0125\n",
      "Epoch 110/150\n",
      "5938/5938 [==============================] - 71s 12ms/step - loss: 5.4729e-05 - val_loss: 0.0123\n",
      "Epoch 111/150\n",
      "5938/5938 [==============================] - 71s 12ms/step - loss: 5.4187e-05 - val_loss: 0.0123\n",
      "Epoch 112/150\n",
      "5938/5938 [==============================] - 76s 13ms/step - loss: 5.3683e-05 - val_loss: 0.0116\n",
      "Epoch 113/150\n",
      "5938/5938 [==============================] - 72s 12ms/step - loss: 5.2840e-05 - val_loss: 0.0114\n",
      "Epoch 114/150\n",
      "5938/5938 [==============================] - 72s 12ms/step - loss: 5.2113e-05 - val_loss: 0.0107\n",
      "Epoch 115/150\n",
      "5938/5938 [==============================] - 71s 12ms/step - loss: 5.0800e-05 - val_loss: 0.0107\n",
      "Epoch 116/150\n",
      "5938/5938 [==============================] - 72s 12ms/step - loss: 5.0575e-05 - val_loss: 0.0107\n",
      "Epoch 117/150\n",
      "5938/5938 [==============================] - 71s 12ms/step - loss: 4.9737e-05 - val_loss: 0.0102\n",
      "Epoch 118/150\n",
      "5935/5938 [============================>.] - ETA: 0s - loss: 4.7913e-05INFO:tensorflow:Assets written to: /root/wandb/run-20220808_181318-ame6ewke/files/model-best/assets\n"
     ]
    },
    {
     "name": "stderr",
     "output_type": "stream",
     "text": [
      "wandb: Adding directory to artifact (/root/wandb/run-20220808_181318-ame6ewke/files/model-best)... Done. 0.1s\n"
     ]
    },
    {
     "name": "stdout",
     "output_type": "stream",
     "text": [
      "5938/5938 [==============================] - 76s 13ms/step - loss: 4.8134e-05 - val_loss: 0.0096\n",
      "Epoch 119/150\n",
      "5937/5938 [============================>.] - ETA: 0s - loss: 4.4885e-05INFO:tensorflow:Assets written to: /root/wandb/run-20220808_181318-ame6ewke/files/model-best/assets\n"
     ]
    },
    {
     "name": "stderr",
     "output_type": "stream",
     "text": [
      "wandb: Adding directory to artifact (/root/wandb/run-20220808_181318-ame6ewke/files/model-best)... Done. 0.1s\n"
     ]
    },
    {
     "name": "stdout",
     "output_type": "stream",
     "text": [
      "5938/5938 [==============================] - 77s 13ms/step - loss: 4.4931e-05 - val_loss: 0.0083\n",
      "Epoch 120/150\n",
      "5938/5938 [==============================] - 72s 12ms/step - loss: 4.7825e-05 - val_loss: 0.0109\n",
      "Epoch 121/150\n",
      "5938/5938 [==============================] - 70s 12ms/step - loss: 4.7758e-05 - val_loss: 0.0088\n",
      "Epoch 122/150\n",
      "5938/5938 [==============================] - 71s 12ms/step - loss: 4.5295e-05 - val_loss: 0.0087\n",
      "Epoch 123/150\n",
      "5935/5938 [============================>.] - ETA: 0s - loss: 4.3790e-05INFO:tensorflow:Assets written to: /root/wandb/run-20220808_181318-ame6ewke/files/model-best/assets\n"
     ]
    },
    {
     "name": "stderr",
     "output_type": "stream",
     "text": [
      "wandb: Adding directory to artifact (/root/wandb/run-20220808_181318-ame6ewke/files/model-best)... Done. 0.1s\n"
     ]
    },
    {
     "name": "stdout",
     "output_type": "stream",
     "text": [
      "5938/5938 [==============================] - 79s 13ms/step - loss: 4.4010e-05 - val_loss: 0.0081\n",
      "Epoch 124/150\n",
      "5938/5938 [==============================] - ETA: 0s - loss: 4.1877e-05INFO:tensorflow:Assets written to: /root/wandb/run-20220808_181318-ame6ewke/files/model-best/assets\n"
     ]
    },
    {
     "name": "stderr",
     "output_type": "stream",
     "text": [
      "wandb: Adding directory to artifact (/root/wandb/run-20220808_181318-ame6ewke/files/model-best)... Done. 0.1s\n"
     ]
    },
    {
     "name": "stdout",
     "output_type": "stream",
     "text": [
      "5938/5938 [==============================] - 79s 13ms/step - loss: 4.1877e-05 - val_loss: 0.0079\n",
      "Epoch 125/150\n",
      "5935/5938 [============================>.] - ETA: 0s - loss: 4.0194e-05INFO:tensorflow:Assets written to: /root/wandb/run-20220808_181318-ame6ewke/files/model-best/assets\n"
     ]
    },
    {
     "name": "stderr",
     "output_type": "stream",
     "text": [
      "wandb: Adding directory to artifact (/root/wandb/run-20220808_181318-ame6ewke/files/model-best)... Done. 0.1s\n"
     ]
    },
    {
     "name": "stdout",
     "output_type": "stream",
     "text": [
      "5938/5938 [==============================] - 84s 14ms/step - loss: 4.0422e-05 - val_loss: 0.0078\n",
      "Epoch 126/150\n",
      "5934/5938 [============================>.] - ETA: 0s - loss: 3.9599e-05INFO:tensorflow:Assets written to: /root/wandb/run-20220808_181318-ame6ewke/files/model-best/assets\n"
     ]
    },
    {
     "name": "stderr",
     "output_type": "stream",
     "text": [
      "wandb: Adding directory to artifact (/root/wandb/run-20220808_181318-ame6ewke/files/model-best)... Done. 0.1s\n"
     ]
    },
    {
     "name": "stdout",
     "output_type": "stream",
     "text": [
      "5938/5938 [==============================] - 78s 13ms/step - loss: 3.9856e-05 - val_loss: 0.0076\n",
      "Epoch 127/150\n",
      "5936/5938 [============================>.] - ETA: 0s - loss: 3.8738e-05INFO:tensorflow:Assets written to: /root/wandb/run-20220808_181318-ame6ewke/files/model-best/assets\n"
     ]
    },
    {
     "name": "stderr",
     "output_type": "stream",
     "text": [
      "wandb: Adding directory to artifact (/root/wandb/run-20220808_181318-ame6ewke/files/model-best)... Done. 0.1s\n"
     ]
    },
    {
     "name": "stdout",
     "output_type": "stream",
     "text": [
      "5938/5938 [==============================] - 76s 13ms/step - loss: 3.8904e-05 - val_loss: 0.0075\n",
      "Epoch 128/150\n",
      "5935/5938 [============================>.] - ETA: 0s - loss: 3.7329e-05INFO:tensorflow:Assets written to: /root/wandb/run-20220808_181318-ame6ewke/files/model-best/assets\n"
     ]
    },
    {
     "name": "stderr",
     "output_type": "stream",
     "text": [
      "wandb: Adding directory to artifact (/root/wandb/run-20220808_181318-ame6ewke/files/model-best)... Done. 0.1s\n"
     ]
    },
    {
     "name": "stdout",
     "output_type": "stream",
     "text": [
      "5938/5938 [==============================] - 78s 13ms/step - loss: 3.7554e-05 - val_loss: 0.0073\n",
      "Epoch 129/150\n",
      "5934/5938 [============================>.] - ETA: 0s - loss: 3.5362e-05INFO:tensorflow:Assets written to: /root/wandb/run-20220808_181318-ame6ewke/files/model-best/assets\n"
     ]
    },
    {
     "name": "stderr",
     "output_type": "stream",
     "text": [
      "wandb: Adding directory to artifact (/root/wandb/run-20220808_181318-ame6ewke/files/model-best)... Done. 0.1s\n"
     ]
    },
    {
     "name": "stdout",
     "output_type": "stream",
     "text": [
      "5938/5938 [==============================] - 77s 13ms/step - loss: 3.5618e-05 - val_loss: 0.0068\n",
      "Epoch 130/150\n",
      "5937/5938 [============================>.] - ETA: 0s - loss: 3.4139e-05INFO:tensorflow:Assets written to: /root/wandb/run-20220808_181318-ame6ewke/files/model-best/assets\n"
     ]
    },
    {
     "name": "stderr",
     "output_type": "stream",
     "text": [
      "wandb: Adding directory to artifact (/root/wandb/run-20220808_181318-ame6ewke/files/model-best)... Done. 0.1s\n"
     ]
    },
    {
     "name": "stdout",
     "output_type": "stream",
     "text": [
      "5938/5938 [==============================] - 77s 13ms/step - loss: 3.4183e-05 - val_loss: 0.0066\n",
      "Epoch 131/150\n",
      "5935/5938 [============================>.] - ETA: 0s - loss: 3.2833e-05INFO:tensorflow:Assets written to: /root/wandb/run-20220808_181318-ame6ewke/files/model-best/assets\n"
     ]
    },
    {
     "name": "stderr",
     "output_type": "stream",
     "text": [
      "wandb: Adding directory to artifact (/root/wandb/run-20220808_181318-ame6ewke/files/model-best)... Done. 0.1s\n"
     ]
    },
    {
     "name": "stdout",
     "output_type": "stream",
     "text": [
      "5938/5938 [==============================] - 78s 13ms/step - loss: 3.3060e-05 - val_loss: 0.0064\n",
      "Epoch 132/150\n",
      "5938/5938 [==============================] - ETA: 0s - loss: 3.2132e-05INFO:tensorflow:Assets written to: /root/wandb/run-20220808_181318-ame6ewke/files/model-best/assets\n"
     ]
    },
    {
     "name": "stderr",
     "output_type": "stream",
     "text": [
      "wandb: Adding directory to artifact (/root/wandb/run-20220808_181318-ame6ewke/files/model-best)... Done. 0.1s\n"
     ]
    },
    {
     "name": "stdout",
     "output_type": "stream",
     "text": [
      "5938/5938 [==============================] - 86s 15ms/step - loss: 3.2132e-05 - val_loss: 0.0062\n",
      "Epoch 133/150\n",
      "5935/5938 [============================>.] - ETA: 0s - loss: 3.0711e-05INFO:tensorflow:Assets written to: /root/wandb/run-20220808_181318-ame6ewke/files/model-best/assets\n"
     ]
    },
    {
     "name": "stderr",
     "output_type": "stream",
     "text": [
      "wandb: Adding directory to artifact (/root/wandb/run-20220808_181318-ame6ewke/files/model-best)... Done. 0.1s\n"
     ]
    },
    {
     "name": "stdout",
     "output_type": "stream",
     "text": [
      "5938/5938 [==============================] - 78s 13ms/step - loss: 3.0941e-05 - val_loss: 0.0060\n",
      "Epoch 134/150\n",
      "5934/5938 [============================>.] - ETA: 0s - loss: 2.8983e-05INFO:tensorflow:Assets written to: /root/wandb/run-20220808_181318-ame6ewke/files/model-best/assets\n"
     ]
    },
    {
     "name": "stderr",
     "output_type": "stream",
     "text": [
      "wandb: Adding directory to artifact (/root/wandb/run-20220808_181318-ame6ewke/files/model-best)... Done. 0.1s\n"
     ]
    },
    {
     "name": "stdout",
     "output_type": "stream",
     "text": [
      "5938/5938 [==============================] - 78s 13ms/step - loss: 2.9248e-05 - val_loss: 0.0058\n",
      "Epoch 135/150\n",
      "5938/5938 [==============================] - ETA: 0s - loss: 2.8534e-05INFO:tensorflow:Assets written to: /root/wandb/run-20220808_181318-ame6ewke/files/model-best/assets\n"
     ]
    },
    {
     "name": "stderr",
     "output_type": "stream",
     "text": [
      "wandb: Adding directory to artifact (/root/wandb/run-20220808_181318-ame6ewke/files/model-best)... Done. 0.1s\n"
     ]
    },
    {
     "name": "stdout",
     "output_type": "stream",
     "text": [
      "5938/5938 [==============================] - 77s 13ms/step - loss: 2.8534e-05 - val_loss: 0.0057\n",
      "Epoch 136/150\n",
      "5938/5938 [==============================] - 73s 12ms/step - loss: 2.8082e-05 - val_loss: 0.0058\n",
      "Epoch 137/150\n",
      "5938/5938 [==============================] - 71s 12ms/step - loss: 2.8464e-05 - val_loss: 0.0061\n",
      "Epoch 138/150\n",
      "5938/5938 [==============================] - 71s 12ms/step - loss: 2.9578e-05 - val_loss: 0.0061\n",
      "Epoch 139/150\n",
      "5938/5938 [==============================] - 71s 12ms/step - loss: 3.0136e-05 - val_loss: 0.0060\n",
      "Epoch 140/150\n",
      "5938/5938 [==============================] - 72s 12ms/step - loss: 2.9988e-05 - val_loss: 0.0068\n",
      "Epoch 141/150\n",
      "5938/5938 [==============================] - 71s 12ms/step - loss: 3.2064e-05 - val_loss: 0.0067\n",
      "Epoch 142/150\n",
      "5938/5938 [==============================] - 71s 12ms/step - loss: 3.1724e-05 - val_loss: 0.0062\n",
      "Epoch 143/150\n",
      "5938/5938 [==============================] - 72s 12ms/step - loss: 3.0544e-05 - val_loss: 0.0065\n",
      "Epoch 144/150\n",
      "5938/5938 [==============================] - 73s 12ms/step - loss: 3.2669e-05 - val_loss: 0.0062\n",
      "Epoch 145/150\n",
      "5938/5938 [==============================] - 72s 12ms/step - loss: 3.1076e-05 - val_loss: 0.0067\n",
      "Epoch 146/150\n",
      "5938/5938 [==============================] - 85s 14ms/step - loss: 3.3777e-05 - val_loss: 0.0068\n",
      "Epoch 147/150\n",
      "5938/5938 [==============================] - 85s 14ms/step - loss: 3.0474e-05 - val_loss: 0.0079\n",
      "Epoch 148/150\n",
      "5938/5938 [==============================] - 76s 13ms/step - loss: 3.4729e-05 - val_loss: 0.0059\n",
      "Epoch 149/150\n",
      "5938/5938 [==============================] - 72s 12ms/step - loss: 2.9504e-05 - val_loss: 0.0066\n",
      "Epoch 150/150\n",
      "5938/5938 [==============================] - 71s 12ms/step - loss: 3.1967e-05 - val_loss: 0.0071\n"
     ]
    }
   ],
   "source": [
    "#model,train_error,val_error =  fit_model(train,val,timesteps,lr,batch_size,num_epochs)"
   ]
  },
  {
   "cell_type": "code",
   "execution_count": 34,
   "metadata": {},
   "outputs": [
    {
     "name": "stdout",
     "output_type": "stream",
     "text": [
      "158/158 [==============================] - 1s 7ms/step\n",
      "MSE = 0.0030444880624401717\n",
      "RMSE = 0.05517687978166373\n",
      "R-Squared Score = 0.9546165650945985\n"
     ]
    }
   ],
   "source": [
    "mse, rmse, r2_value,true,predicted = evaluate_model(model,test,timesteps)\n",
    "print('MSE = {}'.format(mse))\n",
    "print('RMSE = {}'.format(rmse))\n",
    "print('R-Squared Score = {}'.format(r2_value))"
   ]
  },
  {
   "cell_type": "code",
   "execution_count": 38,
   "metadata": {},
   "outputs": [
    {
     "data": {
      "image/png": "[encoded data removed]",
      "text/plain": [
       "<Figure size 640x480 with 1 Axes>"
      ]
     },
     "metadata": {},
     "output_type": "display_data"
    }
   ],
   "source": [
    "plot_data(true, predicted)"
   ]
  },
  {
   "cell_type": "code",
   "execution_count": 27,
   "metadata": {},
   "outputs": [],
   "source": [
    "model.save(\"sequentialModel.h5\")"
   ]
  },
  {
   "cell_type": "code",
   "execution_count": null,
   "metadata": {},
   "outputs": [],
   "source": [
    "#GRU - MODEL"
   ]
  },
  {
   "cell_type": "code",
   "execution_count": 26,
   "metadata": {
    "collapsed": true,
    "jupyter": {
     "outputs_hidden": true
    }
   },
   "outputs": [
    {
     "data": {
      "text/html": [
       "Finishing last run (ID:ame6ewke) before initializing another..."
      ],
      "text/plain": [
       "<IPython.core.display.HTML object>"
      ]
     },
     "metadata": {},
     "output_type": "display_data"
    },
    {
     "data": {
      "text/html": [
       "Waiting for W&B process to finish... <strong style=\"color:green\">(success).</strong>"
      ],
      "text/plain": [
       "<IPython.core.display.HTML object>"
      ]
     },
     "metadata": {},
     "output_type": "display_data"
    },
    {
     "data": {
      "application/vnd.jupyter.widget-view+json": {
       "model_id": "",
       "version_major": 2,
       "version_minor": 0
      },
      "text/plain": [
       "VBox(children=(Label(value='106.901 MB of 106.901 MB uploaded (0.021 MB deduped)\\r'), FloatProgress(value=1.0,…"
      ]
     },
     "metadata": {},
     "output_type": "display_data"
    },
    {
     "data": {
      "text/html": [
       "<style>\n",
       "    table.wandb td:nth-child(1) { padding: 0 10px; text-align: left ; width: auto;} td:nth-child(2) {text-align: left ; width: 100%}\n",
       "    .wandb-row { display: flex; flex-direction: row; flex-wrap: wrap; justify-content: flex-start; width: 100% }\n",
       "    .wandb-col { display: flex; flex-direction: column; flex-basis: 100%; flex: 1; padding: 10px; }\n",
       "    </style>\n",
       "<div class=\"wandb-row\"><div class=\"wandb-col\"><h3>Run history:</h3><br/><table class=\"wandb\"><tr><td>epoch</td><td>▁▁▁▂▂▁▁▁▂▂▂▂▂▃▃▃▃▃▄▄▄▄▅▅▅▅▅▆▆▆▆▆▆▇▇▇▇███</td></tr><tr><td>loss</td><td>█▆▂▂▁▇▇▁▁▁▁▁▁▁▁▁▁▁▁▁▁▁▁▁▁▁▁▁▁▁▁▁▁▁▁▁▁▁▁▁</td></tr><tr><td>val_loss</td><td>▆▅▃▂▂█▅▁▁▁▁▁▁▁▁▁▁▁▁▁▁▁▁▁▁▁▁▁▁▁▁▁▁▁▁▁▁▁▁▁</td></tr></table><br/></div><div class=\"wandb-col\"><h3>Run summary:</h3><br/><table class=\"wandb\"><tr><td>GFLOPs</td><td>2e-05</td></tr><tr><td>best_epoch</td><td>134</td></tr><tr><td>best_val_loss</td><td>0.00575</td></tr><tr><td>epoch</td><td>149</td></tr><tr><td>loss</td><td>3e-05</td></tr><tr><td>val_loss</td><td>0.0071</td></tr></table><br/></div></div>"
      ],
      "text/plain": [
       "<IPython.core.display.HTML object>"
      ]
     },
     "metadata": {},
     "output_type": "display_data"
    },
    {
     "data": {
      "text/html": [
       "Synced <strong style=\"color:#cdcd00\">lyric-cosmos-2</strong>: <a href=\"https://wandb.ai/scarfe/Stock%20Price%20Time%20Series%20Project/runs/ame6ewke\" target=\"_blank\">https://wandb.ai/scarfe/Stock%20Price%20Time%20Series%20Project/runs/ame6ewke</a><br/>Synced 5 W&B file(s), 1 media file(s), 217 artifact file(s) and 1 other file(s)"
      ],
      "text/plain": [
       "<IPython.core.display.HTML object>"
      ]
     },
     "metadata": {},
     "output_type": "display_data"
    },
    {
     "data": {
      "text/html": [
       "Find logs at: <code>./wandb/run-20220808_181318-ame6ewke/logs</code>"
      ],
      "text/plain": [
       "<IPython.core.display.HTML object>"
      ]
     },
     "metadata": {},
     "output_type": "display_data"
    },
    {
     "data": {
      "text/html": [
       "Successfully finished last run (ID:ame6ewke). Initializing new run:<br/>"
      ],
      "text/plain": [
       "<IPython.core.display.HTML object>"
      ]
     },
     "metadata": {},
     "output_type": "display_data"
    },
    {
     "data": {
      "text/html": [
       "Tracking run with wandb version 0.13.1"
      ],
      "text/plain": [
       "<IPython.core.display.HTML object>"
      ]
     },
     "metadata": {},
     "output_type": "display_data"
    },
    {
     "data": {
      "text/html": [
       "Run data is saved locally in <code>/root/wandb/run-20220808_215608-byushfo3</code>"
      ],
      "text/plain": [
       "<IPython.core.display.HTML object>"
      ]
     },
     "metadata": {},
     "output_type": "display_data"
    },
    {
     "data": {
      "text/html": [
       "Syncing run <strong><a href=\"https://wandb.ai/scarfe/Stock%20Price%20Time%20Series%20GRU%20Project/runs/byushfo3\" target=\"_blank\">fearless-butterfly-1</a></strong> to <a href=\"https://wandb.ai/scarfe/Stock%20Price%20Time%20Series%20GRU%20Project\" target=\"_blank\">Weights & Biases</a> (<a href=\"https://wandb.me/run\" target=\"_blank\">docs</a>)<br/>"
      ],
      "text/plain": [
       "<IPython.core.display.HTML object>"
      ]
     },
     "metadata": {},
     "output_type": "display_data"
    },
    {
     "data": {
      "text/html": [
       "<button onClick=\"this.nextSibling.style.display='block';this.style.display='none';\">Display W&B run</button><iframe src=\"https://wandb.ai/scarfe/Stock%20Price%20Time%20Series%20GRU%20Project/runs/byushfo3?jupyter=true\" style=\"border:none;width:100%;height:420px;display:none;\"></iframe>"
      ],
      "text/plain": [
       "<wandb.sdk.wandb_run.Run at 0x7fe711bbf810>"
      ]
     },
     "execution_count": 26,
     "metadata": {},
     "output_type": "execute_result"
    }
   ],
   "source": [
    "wandb.init(project = \"Stock Price Time Series GRU Project\")"
   ]
  },
  {
   "cell_type": "code",
   "execution_count": 28,
   "metadata": {},
   "outputs": [],
   "source": [
    "def gru_model(train,val,timesteps,lr,batch,epochs):\n",
    "    X_train = []\n",
    "    Y_train = []\n",
    "    X_val = []\n",
    "    Y_val = []\n",
    "    # Loop for training data\n",
    "    for i in range(timesteps,train.shape[0]):\n",
    "        X_train.append(train[i-timesteps:i])\n",
    "        Y_train.append(train[i][0])\n",
    "    X_train,Y_train = np.array(X_train),np.array(Y_train)\n",
    "  \n",
    "    # Loop for val data\n",
    "    for i in range(timesteps,val.shape[0]):\n",
    "        X_val.append(val[i-timesteps:i])\n",
    "        Y_val.append(val[i][0])\n",
    "    X_val,Y_val = np.array(X_val),np.array(Y_val)\n",
    "    print(Y_val.shape)\n",
    "    \n",
    "    # Adding Layers to the model\n",
    "    global gru_model\n",
    "    gru_model = Sequential()\n",
    "\n",
    "    # Layer 1 of GRU with Dropout\n",
    "    gru_model.add(GRU(units=30, return_sequences=True, input_shape=(X_train.shape[1],X_train.shape[2]), activation='tanh'))\n",
    "    gru_model.add(Dropout(0.2))\n",
    "\n",
    "    # Layer 2 of GRU with Dropout\n",
    "    gru_model.add(GRU(units=30, return_sequences=True, input_shape=(X_train.shape[1],X_train.shape[2]), activation='tanh'))\n",
    "    gru_model.add(Dropout(0.2))\n",
    "\n",
    "    # Layer 3 of GRU with Dropout\n",
    "    gru_model.add(GRU(units=30, return_sequences=True, input_shape=(X_train.shape[1],X_train.shape[2]), activation='tanh'))\n",
    "    gru_model.add(Dropout(0.2))\n",
    "\n",
    "    # Layer 4 of GRU with Dropout\n",
    "    gru_model.add(GRU(units=30, activation='tanh'))\n",
    "    gru_model.add(Dropout(0.2))\n",
    "\n",
    "    # Output layer of GRU model\n",
    "    gru_model.add(Dense(units=1))\n",
    "\n",
    "    #compiling the model\n",
    "    gru_model.compile(optimizer = keras.optimizers.Adam(lr = 0.0008), loss = 'mean_squared_error')\n",
    "    history = gru_model.fit(X_train,Y_train,epochs = 50, batch_size = 32 ,validation_data = (X_val, Y_val),verbose = 1,\n",
    "                       shuffle = False, callbacks=callbacks_list)\n",
    "  \n",
    "    \n",
    "   # model.compile(optimizer = optimizers.Adam(lr = 0.0008), loss = 'mean_squared_error', metrics= ['accuracy'])\n",
    "    \n",
    "   # print(model.summary())\n",
    "  \n",
    "    # Training the data\n",
    "  #  history = model.fit(X_train,Y_train,epochs = epochs,batch_size = batch,validation_data = (X_val, Y_val),verbose = 1,\n",
    "     #                   shuffle = False, callbacks=callbacks_list)\n",
    "    #model.reset_states()\n",
    "    return model, history.history['loss'], history.history['val_loss']"
   ]
  },
  {
   "cell_type": "code",
   "execution_count": 29,
   "metadata": {
    "collapsed": true,
    "jupyter": {
     "outputs_hidden": true
    }
   },
   "outputs": [
    {
     "name": "stdout",
     "output_type": "stream",
     "text": [
      "(14995,)\n"
     ]
    },
    {
     "name": "stderr",
     "output_type": "stream",
     "text": [
      "/opt/conda/lib/python3.7/site-packages/keras/optimizers/optimizer_v2/adam.py:110: UserWarning: The `lr` argument is deprecated, use `learning_rate` instead.\n",
      "  super(Adam, self).__init__(name, **kwargs)\n"
     ]
    },
    {
     "name": "stdout",
     "output_type": "stream",
     "text": [
      "Epoch 1/50\n",
      "5938/5938 [==============================] - 96s 15ms/step - loss: 6.2013e-04 - val_loss: 0.3154\n",
      "Epoch 2/50\n",
      "5938/5938 [==============================] - 82s 14ms/step - loss: 0.0020 - val_loss: 0.3067\n",
      "Epoch 3/50\n",
      "5938/5938 [==============================] - 84s 14ms/step - loss: 0.0040 - val_loss: 0.3212\n",
      "Epoch 4/50\n",
      "5938/5938 [==============================] - 83s 14ms/step - loss: 0.0023 - val_loss: 0.3155\n",
      "Epoch 5/50\n",
      "5938/5938 [==============================] - 83s 14ms/step - loss: 0.0028 - val_loss: 0.3116\n",
      "Epoch 6/50\n",
      "5938/5938 [==============================] - 84s 14ms/step - loss: 0.0031 - val_loss: 0.3107\n",
      "Epoch 7/50\n",
      "5938/5938 [==============================] - 84s 14ms/step - loss: 0.0029 - val_loss: 0.3053\n",
      "Epoch 8/50\n",
      "5938/5938 [==============================] - 85s 14ms/step - loss: 0.0033 - val_loss: 0.3038\n",
      "Epoch 9/50\n",
      "5938/5938 [==============================] - 102s 17ms/step - loss: 0.0029 - val_loss: 0.3204\n",
      "Epoch 10/50\n",
      "5938/5938 [==============================] - 98s 16ms/step - loss: 0.0024 - val_loss: 0.3100\n",
      "Epoch 11/50\n",
      "5938/5938 [==============================] - 84s 14ms/step - loss: 0.0031 - val_loss: 0.3089\n",
      "Epoch 12/50\n",
      "5938/5938 [==============================] - 85s 14ms/step - loss: 0.0028 - val_loss: 0.3000\n",
      "Epoch 13/50\n",
      "5938/5938 [==============================] - 84s 14ms/step - loss: 0.0033 - val_loss: 0.3103\n",
      "Epoch 14/50\n",
      "5938/5938 [==============================] - 85s 14ms/step - loss: 0.0032 - val_loss: 0.3008\n",
      "Epoch 15/50\n",
      "5938/5938 [==============================] - 84s 14ms/step - loss: 0.0032 - val_loss: 0.2719\n",
      "Epoch 16/50\n",
      "5938/5938 [==============================] - 83s 14ms/step - loss: 0.0040 - val_loss: 0.2775\n",
      "Epoch 17/50\n",
      "5938/5938 [==============================] - 84s 14ms/step - loss: 0.0029 - val_loss: 0.2995\n",
      "Epoch 18/50\n",
      "5938/5938 [==============================] - 84s 14ms/step - loss: 0.0030 - val_loss: 0.3140\n",
      "Epoch 19/50\n",
      "5938/5938 [==============================] - 85s 14ms/step - loss: 0.0031 - val_loss: 0.3268\n",
      "Epoch 20/50\n",
      "5938/5938 [==============================] - 83s 14ms/step - loss: 0.0031 - val_loss: 0.2891\n",
      "Epoch 21/50\n",
      "5938/5938 [==============================] - 84s 14ms/step - loss: 0.0030 - val_loss: 0.3149\n",
      "Epoch 22/50\n",
      "5938/5938 [==============================] - 87s 15ms/step - loss: 0.0029 - val_loss: 0.3232\n",
      "Epoch 23/50\n",
      "5938/5938 [==============================] - 83s 14ms/step - loss: 0.0028 - val_loss: 0.2848\n",
      "Epoch 24/50\n",
      "5938/5938 [==============================] - 83s 14ms/step - loss: 0.0025 - val_loss: 0.2306\n",
      "Epoch 25/50\n",
      "5938/5938 [==============================] - 83s 14ms/step - loss: 0.0023 - val_loss: 0.2132\n",
      "Epoch 26/50\n",
      "5938/5938 [==============================] - 84s 14ms/step - loss: 0.0022 - val_loss: 0.2754\n",
      "Epoch 27/50\n",
      "5938/5938 [==============================] - 84s 14ms/step - loss: 0.0024 - val_loss: 0.2189\n",
      "Epoch 28/50\n",
      "5938/5938 [==============================] - 83s 14ms/step - loss: 0.0024 - val_loss: 0.1932\n",
      "Epoch 29/50\n",
      "5938/5938 [==============================] - 83s 14ms/step - loss: 0.0022 - val_loss: 0.2330\n",
      "Epoch 30/50\n",
      "5938/5938 [==============================] - 85s 14ms/step - loss: 0.0022 - val_loss: 0.1844\n",
      "Epoch 31/50\n",
      "5938/5938 [==============================] - 83s 14ms/step - loss: 0.0020 - val_loss: 0.2062\n",
      "Epoch 32/50\n",
      "5938/5938 [==============================] - 82s 14ms/step - loss: 0.0020 - val_loss: 0.1751\n",
      "Epoch 33/50\n",
      "5938/5938 [==============================] - 83s 14ms/step - loss: 0.0019 - val_loss: 0.1941\n",
      "Epoch 34/50\n",
      "5938/5938 [==============================] - 83s 14ms/step - loss: 0.0020 - val_loss: 0.1639\n",
      "Epoch 35/50\n",
      "5938/5938 [==============================] - 83s 14ms/step - loss: 0.0018 - val_loss: 0.1830\n",
      "Epoch 36/50\n",
      "5938/5938 [==============================] - 83s 14ms/step - loss: 0.0019 - val_loss: 0.1518\n",
      "Epoch 37/50\n",
      "5938/5938 [==============================] - 84s 14ms/step - loss: 0.0017 - val_loss: 0.1776\n",
      "Epoch 38/50\n",
      "5938/5938 [==============================] - 83s 14ms/step - loss: 0.0018 - val_loss: 0.1465\n",
      "Epoch 39/50\n",
      "5938/5938 [==============================] - 83s 14ms/step - loss: 0.0016 - val_loss: 0.1585\n",
      "Epoch 40/50\n",
      "5938/5938 [==============================] - 84s 14ms/step - loss: 0.0017 - val_loss: 0.1414\n",
      "Epoch 41/50\n",
      "5938/5938 [==============================] - 83s 14ms/step - loss: 0.0016 - val_loss: 0.1454\n",
      "Epoch 42/50\n",
      "5938/5938 [==============================] - 83s 14ms/step - loss: 0.0017 - val_loss: 0.1292\n",
      "Epoch 43/50\n",
      "5938/5938 [==============================] - 83s 14ms/step - loss: 0.0015 - val_loss: 0.1318\n",
      "Epoch 44/50\n",
      "5938/5938 [==============================] - 86s 15ms/step - loss: 0.0016 - val_loss: 0.1150\n",
      "Epoch 45/50\n",
      "5938/5938 [==============================] - 84s 14ms/step - loss: 0.0015 - val_loss: 0.1143\n",
      "Epoch 46/50\n",
      "5938/5938 [==============================] - 83s 14ms/step - loss: 0.0015 - val_loss: 0.1063\n",
      "Epoch 47/50\n",
      "5938/5938 [==============================] - 85s 14ms/step - loss: 0.0014 - val_loss: 0.1096\n",
      "Epoch 48/50\n",
      "5938/5938 [==============================] - 84s 14ms/step - loss: 0.0015 - val_loss: 0.1027\n",
      "Epoch 49/50\n",
      "5938/5938 [==============================] - 83s 14ms/step - loss: 0.0014 - val_loss: 0.1037\n",
      "Epoch 50/50\n",
      "5938/5938 [==============================] - 83s 14ms/step - loss: 0.0015 - val_loss: 0.1022\n"
     ]
    }
   ],
   "source": [
    "model,train_error,val_error =  gru_model(train,val,timesteps,lr,batch_size,num_epochs)"
   ]
  },
  {
   "cell_type": "code",
   "execution_count": 30,
   "metadata": {},
   "outputs": [
    {
     "name": "stdout",
     "output_type": "stream",
     "text": [
      "158/158 [==============================] - 3s 3ms/step\n",
      "MSE = 0.06581852129100665\n",
      "RMSE = 0.2565512059823665\n",
      "R-Squared Score = 0.01885948792782033\n"
     ]
    }
   ],
   "source": [
    "mse, rmse, r2_value,true,predicted = evaluate_model(gru_model,test,timesteps)\n",
    "print('MSE = {}'.format(mse))\n",
    "print('RMSE = {}'.format(rmse))\n",
    "print('R-Squared Score = {}'.format(r2_value))"
   ]
  },
  {
   "cell_type": "code",
   "execution_count": 32,
   "metadata": {},
   "outputs": [],
   "source": [
    "gru_model.save('gru_model.h5')"
   ]
  },
  {
   "cell_type": "code",
   "execution_count": 27,
   "metadata": {},
   "outputs": [],
   "source": [
    "# Plotting the predictions\n",
    "def plot_data(Y_test,Y_hat):\n",
    "    plt.plot(Y_test,c = 'r')\n",
    "    plt.plot(Y_hat,c = 'y')\n",
    "    plt.xlabel('Candles')\n",
    "    plt.ylabel('Price')\n",
    "    plt.title('Stock Prediction Graph')\n",
    "    plt.legend(['Actual','Predicted'],loc = 'lower right')\n",
    "    plt.savefig(\"fortry.png\")\n",
    "    plt.show()"
   ]
  },
  {
   "cell_type": "code",
   "execution_count": 37,
   "metadata": {},
   "outputs": [],
   "source": [
    "test_data = test[:100]"
   ]
  },
  {
   "cell_type": "code",
   "execution_count": 38,
   "metadata": {},
   "outputs": [],
   "source": [
    "def calc(test_data, model,timesteps = 5):\n",
    "    X_test = []\n",
    "    Y_test = []\n",
    "\n",
    "    # Loop for testing data\n",
    "    for i in range(timesteps,test_data.shape[0]):\n",
    "        X_test.append(test[i-timesteps:i])\n",
    "        Y_test.append(test[i][0])\n",
    "    X_test,Y_test = np.array(X_test),np.array(Y_test)\n",
    "    y_hat = model.predict(X_test)\n",
    "    plot_data(Y_test, y_hat)"
   ]
  },
  {
   "cell_type": "code",
   "execution_count": 39,
   "metadata": {},
   "outputs": [],
   "source": [
    "model1 = keras.models.load_model('sequentialModel.h5')"
   ]
  },
  {
   "cell_type": "code",
   "execution_count": 42,
   "metadata": {},
   "outputs": [
    {
     "data": {
      "text/plain": [
       "<keras.engine.sequential.Sequential at 0x7f1afc09f090>"
      ]
     },
     "execution_count": 42,
     "metadata": {},
     "output_type": "execute_result"
    }
   ],
   "source": [
    "model1"
   ]
  },
  {
   "cell_type": "code",
   "execution_count": 43,
   "metadata": {},
   "outputs": [],
   "source": [
    "model2 = keras.models.load_model('gru_model.h5')"
   ]
  },
  {
   "cell_type": "code",
   "execution_count": 44,
   "metadata": {},
   "outputs": [
    {
     "name": "stdout",
     "output_type": "stream",
     "text": [
      "3/3 [==============================] - 1s 5ms/step\n"
     ]
    },
    {
     "data": {
      "image/png": "[encoded data removed]",
      "text/plain": [
       "<Figure size 640x480 with 1 Axes>"
      ]
     },
     "metadata": {},
     "output_type": "display_data"
    }
   ],
   "source": [
    "#gru model\n",
    "calc(test_data, model2)"
   ]
  },
  {
   "cell_type": "code",
   "execution_count": 45,
   "metadata": {},
   "outputs": [
    {
     "name": "stdout",
     "output_type": "stream",
     "text": [
      "3/3 [==============================] - 0s 12ms/step\n"
     ]
    },
    {
     "data": {
      "image/png": "[encoded data removed]",
      "text/plain": [
       "<Figure size 640x480 with 1 Axes>"
      ]
     },
     "metadata": {},
     "output_type": "display_data"
    }
   ],
   "source": [
    "# sequential model\n",
    "calc(test_data, model1)"
   ]
  },
  {
   "cell_type": "code",
   "execution_count": null,
   "metadata": {},
   "outputs": [],
   "source": []
  }
 ],
 "metadata": {
  "instance_type": "ml.t3.medium",
  "kernelspec": {
   "display_name": "Python 3 (Data Science)",
   "language": "python",
   "name": "python3__SAGEMAKER_INTERNAL__arn:aws:sagemaker:eu-west-2:712779665605:image/datascience-1.0"
  },
  "language_info": {
   "codemirror_mode": {
    "name": "ipython",
    "version": 3
   },
   "file_extension": ".py",
   "mimetype": "text/x-python",
   "name": "python",
   "nbconvert_exporter": "python",
   "pygments_lexer": "ipython3",
   "version": "3.7.10"
  }
 },
 "nbformat": 4,
 "nbformat_minor": 5
}
